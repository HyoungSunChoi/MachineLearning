{
 "cells": [
  {
   "cell_type": "markdown",
   "metadata": {},
   "source": [
    "### 학습목표\n",
    "1. beautifulsoup 모듈 사용하기\n",
    "2. id, class 속성으로 tag 찾기\n",
    "3. CSS를 이용하여 tag 찾기\n",
    "4. 속성 값으로 tag 찾기\n",
    "5. 정규표현식으로 tag 찾기\n",
    "6. 개발자도구를 이용하여 동적으로 로딩되는 데이터 추출하기"
   ]
  },
  {
   "cell_type": "code",
   "execution_count": 2,
   "metadata": {},
   "outputs": [],
   "source": [
    "import requests\n",
    "from bs4 import BeautifulSoup"
   ]
  },
  {
   "cell_type": "markdown",
   "metadata": {},
   "source": [
    "#### 다음 뉴스 데이터 추출\n",
    " - 뉴스기사에서 제목, 작성자, 작성일\n",
    " , 댓글 개수 추출\n",
    " - [뉴스링크](https://news.v.daum.net/v/20190728165812603)\n",
    " - tag를 추출할때는 가장 그 tag를 쉽게 특정할 수 있는 속성을 사용\n",
    "  - id의 경우 원칙적으로 한 html 문서 내에서 유일\n",
    "  "
   ]
  },
  {
   "cell_type": "code",
   "execution_count": 15,
   "metadata": {},
   "outputs": [
    {
     "data": {
      "text/plain": [
       "'일론머스크 \"테슬라에서 넷플릭스·유튜브 즐길 날 온다\"'"
      ]
     },
     "execution_count": 15,
     "metadata": {},
     "output_type": "execute_result"
    }
   ],
   "source": [
    "url='https://news.v.daum.net/v/20190728165812603'\n",
    "resp=requests.get(url)\n",
    "#resp.text\n",
    "\n",
    "soup=BeautifulSoup(resp.text)\n",
    "# soup 객체 생성\n",
    "title=soup.find('h3', class_='tit_view')\n",
    "title.get_text()"
   ]
  },
  {
   "cell_type": "markdown",
   "metadata": {},
   "source": [
    "* id, class 속성으로 tag 찾기\n",
    " - 타이틀\n",
    " - 작성자, 작성일"
   ]
  },
  {
   "cell_type": "code",
   "execution_count": 18,
   "metadata": {},
   "outputs": [
    {
     "data": {
      "text/plain": [
       "<span class=\"txt_info\">이민우</span>"
      ]
     },
     "execution_count": 18,
     "metadata": {},
     "output_type": "execute_result"
    }
   ],
   "source": [
    "info=soup.find('span',class_='info_view')\n",
    "# 세부화\n",
    "info.find('span',class_='txt_info')"
   ]
  },
  {
   "cell_type": "code",
   "execution_count": 20,
   "metadata": {},
   "outputs": [
    {
     "data": {
      "text/plain": [
       "<span class=\"txt_info\">입력 <span class=\"num_date\">2019. 07. 28. 16:58</span></span>"
      ]
     },
     "execution_count": 20,
     "metadata": {},
     "output_type": "execute_result"
    }
   ],
   "source": [
    "url='https://news.v.daum.net/v/20190728165812603'\n",
    "soup.find_all('span',class_='txt_info')[0]\n",
    "soup.find_all('span',class_='txt_info')[1]"
   ]
  },
  {
   "cell_type": "code",
   "execution_count": null,
   "metadata": {},
   "outputs": [],
   "source": []
  }
 ],
 "metadata": {
  "kernelspec": {
   "display_name": "Python 3",
   "language": "python",
   "name": "python3"
  },
  "language_info": {
   "codemirror_mode": {
    "name": "ipython",
    "version": 3
   },
   "file_extension": ".py",
   "mimetype": "text/x-python",
   "name": "python",
   "nbconvert_exporter": "python",
   "pygments_lexer": "ipython3",
   "version": "3.7.6"
  }
 },
 "nbformat": 4,
 "nbformat_minor": 4
}
