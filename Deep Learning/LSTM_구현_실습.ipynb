{
  "nbformat": 4,
  "nbformat_minor": 0,
  "metadata": {
    "colab": {
      "name": "LSTM 구현 실습.ipynb",
      "provenance": []
    },
    "kernelspec": {
      "name": "python3",
      "display_name": "Python 3"
    },
    "language_info": {
      "name": "python"
    }
  },
  "cells": [
    {
      "cell_type": "markdown",
      "metadata": {
        "id": "msrA0M-ctLgK"
      },
      "source": [
        "## 순환신경망 구현 및 학습"
      ]
    },
    {
      "cell_type": "code",
      "metadata": {
        "id": "FrJHTl6wtIU6"
      },
      "source": [
        "import tensorflow as tf"
      ],
      "execution_count": 1,
      "outputs": []
    },
    {
      "cell_type": "markdown",
      "metadata": {
        "id": "HDDw6JqwtPMI"
      },
      "source": [
        "## 하이퍼 파라미터"
      ]
    },
    {
      "cell_type": "code",
      "metadata": {
        "id": "FI5Bj9x6tOsL"
      },
      "source": [
        "EPOCHS=10\n",
        "NUM_WORDS=10000"
      ],
      "execution_count": 8,
      "outputs": []
    },
    {
      "cell_type": "markdown",
      "metadata": {
        "id": "cfkaI-hCtSqo"
      },
      "source": [
        "## 모델 정의"
      ]
    },
    {
      "cell_type": "code",
      "metadata": {
        "id": "mLyQtvHXumou"
      },
      "source": [
        "class MyModel(tf.keras.Model):\n",
        "  def __init__(self):\n",
        "    super().__init__()\n",
        "    self.emb = tf.keras.layers.Embedding(NUM_WORDS, 16) # 길이가 32인 숫자들을 길이가 16인 Vector 로 변환\n",
        "    self.lstm = tf.keras.layers.LSTM(32)\n",
        "    self.dense = tf.keras.layers.Dense(1, activation='sigmoid')\n",
        "\n",
        "  def call(self, x, training=None, mask=None):\n",
        "    x=self.emb(x)\n",
        "    x=self.lstm(x)\n",
        "    return self.dense(x)"
      ],
      "execution_count": 9,
      "outputs": []
    },
    {
      "cell_type": "markdown",
      "metadata": {
        "id": "59JbVxNqtUL4"
      },
      "source": [
        "## IMDB 데이터셋 준비"
      ]
    },
    {
      "cell_type": "code",
      "metadata": {
        "colab": {
          "base_uri": "https://localhost:8080/"
        },
        "id": "dsJVLs05tSTA",
        "outputId": "33176985-6362-49b9-d558-b6bf5c60830b"
      },
      "source": [
        "imdb = tf.keras.datasets.imdb\n",
        "(x_train, y_train),(x_test,y_test) = imdb.load_data(num_words=NUM_WORDS)\n",
        "# print(len(x_train[0]), len(x_train[1]))\n",
        "# 32길이로 잘라주고, 32가 안될경우 0으로 패딩해준다.\n",
        "x_train = tf.keras.preprocessing.sequence.pad_sequences(x_train,\n",
        "                                                        value=0,\n",
        "                                                        padding='pre',\n",
        "                                                        maxlen=32)\n",
        "\n",
        "x_test = tf.keras.preprocessing.sequence.pad_sequences(x_test,\n",
        "                                                        value=0,\n",
        "                                                        padding='pre',\n",
        "                                                        maxlen=32)\n",
        "\n",
        "\n",
        "train_ds = tf.data.Dataset.from_tensor_slices((x_train,y_train)).shuffle(1000).batch(32)\n",
        "test_ds = tf.data.Dataset.from_tensor_slices((x_test,y_test)).batch(32)"
      ],
      "execution_count": 15,
      "outputs": [
        {
          "output_type": "stream",
          "text": [
            "<string>:6: VisibleDeprecationWarning: Creating an ndarray from ragged nested sequences (which is a list-or-tuple of lists-or-tuples-or ndarrays with different lengths or shapes) is deprecated. If you meant to do this, you must specify 'dtype=object' when creating the ndarray\n",
            "/usr/local/lib/python3.7/dist-packages/tensorflow/python/keras/datasets/imdb.py:159: VisibleDeprecationWarning: Creating an ndarray from ragged nested sequences (which is a list-or-tuple of lists-or-tuples-or ndarrays with different lengths or shapes) is deprecated. If you meant to do this, you must specify 'dtype=object' when creating the ndarray\n",
            "  x_train, y_train = np.array(xs[:idx]), np.array(labels[:idx])\n",
            "/usr/local/lib/python3.7/dist-packages/tensorflow/python/keras/datasets/imdb.py:160: VisibleDeprecationWarning: Creating an ndarray from ragged nested sequences (which is a list-or-tuple of lists-or-tuples-or ndarrays with different lengths or shapes) is deprecated. If you meant to do this, you must specify 'dtype=object' when creating the ndarray\n",
            "  x_test, y_test = np.array(xs[idx:]), np.array(labels[idx:])\n"
          ],
          "name": "stderr"
        }
      ]
    },
    {
      "cell_type": "markdown",
      "metadata": {
        "id": "hWhXkbPhtwzh"
      },
      "source": [
        "## 모델생성"
      ]
    },
    {
      "cell_type": "code",
      "metadata": {
        "id": "SJidJAbste3G"
      },
      "source": [
        "\n",
        "model=MyModel()\n",
        "model.compile(optimizer='adam',\n",
        "              loss='binary_crossentropy',\n",
        "              metrics=['accuracy'])"
      ],
      "execution_count": 14,
      "outputs": []
    },
    {
      "cell_type": "markdown",
      "metadata": {
        "id": "i-IDX_SNvx64"
      },
      "source": [
        "## 학습 루프 동작"
      ]
    },
    {
      "cell_type": "code",
      "metadata": {
        "colab": {
          "base_uri": "https://localhost:8080/"
        },
        "id": "Df2AckcSvy7-",
        "outputId": "02d52f11-9213-497b-9b1d-89762405f042"
      },
      "source": [
        "model.fit(train_ds, validation_data=test_ds, epochs=EPOCHS)"
      ],
      "execution_count": 13,
      "outputs": [
        {
          "output_type": "stream",
          "text": [
            "Epoch 1/10\n",
            "782/782 [==============================] - 14s 18ms/step - loss: 0.2556 - val_loss: 0.5243\n",
            "Epoch 2/10\n",
            "782/782 [==============================] - 14s 18ms/step - loss: 0.2083 - val_loss: 0.6053\n",
            "Epoch 3/10\n",
            "782/782 [==============================] - 14s 18ms/step - loss: 0.1658 - val_loss: 0.7357\n",
            "Epoch 4/10\n",
            "782/782 [==============================] - 14s 18ms/step - loss: 0.1316 - val_loss: 0.7740\n",
            "Epoch 5/10\n",
            "782/782 [==============================] - 14s 18ms/step - loss: 0.1023 - val_loss: 1.0966\n",
            "Epoch 6/10\n",
            "782/782 [==============================] - 14s 18ms/step - loss: 0.0884 - val_loss: 1.1194\n",
            "Epoch 7/10\n",
            "782/782 [==============================] - 14s 18ms/step - loss: 0.0732 - val_loss: 1.1734\n",
            "Epoch 8/10\n",
            "782/782 [==============================] - 14s 18ms/step - loss: 0.0581 - val_loss: 1.5046\n",
            "Epoch 9/10\n",
            "782/782 [==============================] - 14s 18ms/step - loss: 0.0486 - val_loss: 1.4008\n",
            "Epoch 10/10\n",
            "782/782 [==============================] - 14s 18ms/step - loss: 0.0408 - val_loss: 1.4105\n"
          ],
          "name": "stdout"
        },
        {
          "output_type": "execute_result",
          "data": {
            "text/plain": [
              "<tensorflow.python.keras.callbacks.History at 0x7fafc6763790>"
            ]
          },
          "metadata": {
            "tags": []
          },
          "execution_count": 13
        }
      ]
    },
    {
      "cell_type": "markdown",
      "metadata": {
        "id": "bcZeJq5DwbAY"
      },
      "source": [
        "##  모델 학습결과\n",
        "- loss 감소하지만 val_loss 가 증가하는 것을 알 수 있다\n",
        "- LSTM 대신 GRU / RNN 사용해볼 것"
      ]
    },
    {
      "cell_type": "code",
      "metadata": {
        "id": "2EZWTlSLv3Ve"
      },
      "source": [
        ""
      ],
      "execution_count": null,
      "outputs": []
    }
  ]
}