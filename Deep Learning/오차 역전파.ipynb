{
 "cells": [
  {
   "cell_type": "markdown",
   "metadata": {},
   "source": [
    "1. 임의의 초기 가중치($ (w(1))$)를 준 뒤 결과($y(out)$)를 계산한다\n",
    "2. 계산결과와 예측값 사이의 오차를 구한다\n",
    "3. 경사 하강법을 이용해 바로 앞 가중치를 오차가 작아지는 방향으로 업데이트 한다.\n",
    "    - 미분 값이 0에 가까워지는 방향 \n",
    "4. 1~3 과정을 반복한다"
   ]
  },
  {
   "cell_type": "markdown",
   "metadata": {},
   "source": [
    "$$ W(t+1) = Wt - {{\\partial}오차 \\over {\\partial W}} $$\n"
   ]
  },
  {
   "cell_type": "code",
   "execution_count": null,
   "metadata": {},
   "outputs": [],
   "source": [
    "# 신경망의 실행\n",
    "class NeuralNetwork:\n",
    "    \n",
    "    \n",
    "    # 초깃값 지정\n",
    "    def __init__(self, num_x, num_yh, num_yo, bias=1)\n",
    "    "
   ]
  }
 ],
 "metadata": {
  "kernelspec": {
   "display_name": "Python 3",
   "language": "python",
   "name": "python3"
  },
  "language_info": {
   "codemirror_mode": {
    "name": "ipython",
    "version": 3
   },
   "file_extension": ".py",
   "mimetype": "text/x-python",
   "name": "python",
   "nbconvert_exporter": "python",
   "pygments_lexer": "ipython3",
   "version": "3.8.3"
  }
 },
 "nbformat": 4,
 "nbformat_minor": 4
}
