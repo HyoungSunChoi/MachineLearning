{
  "nbformat": 4,
  "nbformat_minor": 0,
  "metadata": {
    "colab": {
      "name": "Verbose.ipynb",
      "provenance": [],
      "collapsed_sections": []
    },
    "kernelspec": {
      "name": "python3",
      "display_name": "Python 3"
    },
    "language_info": {
      "name": "python"
    }
  },
  "cells": [
    {
      "cell_type": "markdown",
      "metadata": {
        "id": "CMfLVONCjhUR"
      },
      "source": [
        "### Verbose 가 0, 1, 2 일때 차이\n",
        "Verbose 를 지정함으로써 출력 결과가 달라짐\n",
        "Default 값은 1이다.\n"
      ]
    },
    {
      "cell_type": "code",
      "metadata": {
        "colab": {
          "base_uri": "https://localhost:8080/"
        },
        "id": "ZgcoueD_jePK",
        "outputId": "727d0adc-6f89-42c6-98f4-e15b2a36dc2c"
      },
      "source": [
        "# 1. 데이터 구성\n",
        "import numpy as np\n",
        "x_train = np.array([[1,2,3,4,5], [2,3,4,5,6], [3,4,5,6,7]])\n",
        "y_train = np.array([6,7,8])\n",
        "x_train = x_train.reshape(x_train.shape[0], x_train.shape[1], 1)\n",
        "# (3, 5, 1)\n",
        "# 2. 모델 구성\n",
        "from keras.models import Sequential\n",
        "from keras.layers import Dense, LSTM\n",
        "model= Sequential()\n",
        "\n",
        "model.add(LSTM(7, input_shape=(5,1), activation='relu'))\n",
        "model.add(Dense(4))\n",
        "model.add(Dense(1))\n",
        "\n",
        "# 3. 훈련\n",
        "model.compile(loss='mse', optimizer='adam', metrics=['mse'])\n",
        "model.fit(x_train, y_train, batch_size=1, verbose=0,epochs=10)\n",
        "\n",
        "# 4. 평가 , 예측\n",
        "x_predict = np.array([[4,5,6,7,8]])\n",
        "#print(x_predict.shpae)\n",
        "x_predict = x_predict.reshape(x_predict.shape[0],  x_predict.shape[1], 1)\n",
        "y_predict= model.predict(x_predict)\n",
        "print(\"예측값 :\", y_predict)\n"
      ],
      "execution_count": 10,
      "outputs": [
        {
          "output_type": "stream",
          "text": [
            "WARNING:tensorflow:6 out of the last 6 calls to <function Model.make_predict_function.<locals>.predict_function at 0x7fe3b444c440> triggered tf.function retracing. Tracing is expensive and the excessive number of tracings could be due to (1) creating @tf.function repeatedly in a loop, (2) passing tensors with different shapes, (3) passing Python objects instead of tensors. For (1), please define your @tf.function outside of the loop. For (2), @tf.function has experimental_relax_shapes=True option that relaxes argument shapes that can avoid unnecessary retracing. For (3), please refer to https://www.tensorflow.org/guide/function#controlling_retracing and https://www.tensorflow.org/api_docs/python/tf/function for  more details.\n",
            "예측값 : [[-1.1962488]]\n"
          ],
          "name": "stdout"
        }
      ]
    },
    {
      "cell_type": "code",
      "metadata": {
        "colab": {
          "base_uri": "https://localhost:8080/"
        },
        "id": "RNV-7Egkjy67",
        "outputId": "ae9ce304-2395-4be6-bf77-86da0de0d1f5"
      },
      "source": [
        "# 1. 데이터 구성\n",
        "import numpy as np\n",
        "x_train = np.array([[1,2,3,4,5], [2,3,4,5,6], [3,4,5,6,7]])\n",
        "y_train = np.array([6,7,8])\n",
        "x_train = x_train.reshape(x_train.shape[0], x_train.shape[1], 1)\n",
        "# (3, 5, 1)\n",
        "# 2. 모델 구성\n",
        "from keras.models import Sequential\n",
        "from keras.layers import Dense, LSTM\n",
        "model= Sequential()\n",
        "\n",
        "model.add(LSTM(7, input_shape=(5,1), activation='relu'))\n",
        "model.add(Dense(4))\n",
        "model.add(Dense(1))\n",
        "\n",
        "# 3. 훈련\n",
        "model.compile(loss='mse', optimizer='adam', metrics=['mse'])\n",
        "model.fit(x_train, y_train, batch_size=1, verbose=1,epochs=10)\n",
        "\n",
        "# 4. 평가 , 예측\n",
        "x_predict = np.array([[4,5,6,7,8]])\n",
        "#print(x_predict.shpae)\n",
        "x_predict = x_predict.reshape(x_predict.shape[0],  x_predict.shape[1], 1)\n",
        "y_predict= model.predict(x_predict)\n",
        "print(\"예측값 :\", y_predict)\n"
      ],
      "execution_count": 8,
      "outputs": [
        {
          "output_type": "stream",
          "text": [
            "Epoch 1/10\n",
            "WARNING:tensorflow:5 out of the last 13 calls to <function Model.make_train_function.<locals>.train_function at 0x7fe3b5515830> triggered tf.function retracing. Tracing is expensive and the excessive number of tracings could be due to (1) creating @tf.function repeatedly in a loop, (2) passing tensors with different shapes, (3) passing Python objects instead of tensors. For (1), please define your @tf.function outside of the loop. For (2), @tf.function has experimental_relax_shapes=True option that relaxes argument shapes that can avoid unnecessary retracing. For (3), please refer to https://www.tensorflow.org/guide/function#controlling_retracing and https://www.tensorflow.org/api_docs/python/tf/function for  more details.\n",
            "3/3 [==============================] - 1s 5ms/step - loss: 72.1057 - mse: 72.1057\n",
            "Epoch 2/10\n",
            "3/3 [==============================] - 0s 6ms/step - loss: 79.4521 - mse: 79.4521\n",
            "Epoch 3/10\n",
            "3/3 [==============================] - 0s 3ms/step - loss: 70.2464 - mse: 70.2464\n",
            "Epoch 4/10\n",
            "3/3 [==============================] - 0s 3ms/step - loss: 62.5512 - mse: 62.5512\n",
            "Epoch 5/10\n",
            "3/3 [==============================] - 0s 3ms/step - loss: 80.3459 - mse: 80.3459\n",
            "Epoch 6/10\n",
            "3/3 [==============================] - 0s 3ms/step - loss: 62.8881 - mse: 62.8881\n",
            "Epoch 7/10\n",
            "3/3 [==============================] - 0s 4ms/step - loss: 73.3295 - mse: 73.3295\n",
            "Epoch 8/10\n",
            "3/3 [==============================] - 0s 3ms/step - loss: 71.3504 - mse: 71.3504\n",
            "Epoch 9/10\n",
            "3/3 [==============================] - 0s 4ms/step - loss: 69.4627 - mse: 69.4627\n",
            "Epoch 10/10\n",
            "3/3 [==============================] - 0s 3ms/step - loss: 53.8747 - mse: 53.8747\n",
            "예측값 : [[-1.5239408]]\n"
          ],
          "name": "stdout"
        }
      ]
    },
    {
      "cell_type": "code",
      "metadata": {
        "colab": {
          "base_uri": "https://localhost:8080/"
        },
        "id": "6Ea7pQ_Dk5wf",
        "outputId": "c776f293-bd31-4245-82a2-b618796c1612"
      },
      "source": [
        "# 1. 데이터 구성\n",
        "import numpy as np\n",
        "x_train = np.array([[1,2,3,4,5], [2,3,4,5,6], [3,4,5,6,7]])\n",
        "y_train = np.array([6,7,8])\n",
        "x_train = x_train.reshape(x_train.shape[0], x_train.shape[1], 1)\n",
        "# (3, 5, 1)\n",
        "# 2. 모델 구성\n",
        "from keras.models import Sequential\n",
        "from keras.layers import Dense, LSTM\n",
        "model= Sequential()\n",
        "\n",
        "model.add(LSTM(7, input_shape=(5,1), activation='relu'))\n",
        "model.add(Dense(4))\n",
        "model.add(Dense(1))\n",
        "\n",
        "# 3. 훈련\n",
        "model.compile(loss='mse', optimizer='adam', metrics=['mse'])\n",
        "model.fit(x_train, y_train, batch_size=1, verbose=2,epochs=10)\n",
        "\n",
        "# 4. 평가 , 예측\n",
        "x_predict = np.array([[4,5,6,7,8]])\n",
        "#print(x_predict.shpae)\n",
        "x_predict = x_predict.reshape(x_predict.shape[0],  x_predict.shape[1], 1)\n",
        "y_predict= model.predict(x_predict)\n",
        "print(\"예측값 :\", y_predict)\n"
      ],
      "execution_count": 9,
      "outputs": [
        {
          "output_type": "stream",
          "text": [
            "Epoch 1/10\n",
            "3/3 - 1s - loss: 46.9587 - mse: 46.9587\n",
            "Epoch 2/10\n",
            "3/3 - 0s - loss: 46.0305 - mse: 46.0305\n",
            "Epoch 3/10\n",
            "3/3 - 0s - loss: 45.0134 - mse: 45.0134\n",
            "Epoch 4/10\n",
            "3/3 - 0s - loss: 44.0915 - mse: 44.0915\n",
            "Epoch 5/10\n",
            "3/3 - 0s - loss: 43.0801 - mse: 43.0801\n",
            "Epoch 6/10\n",
            "3/3 - 0s - loss: 42.1050 - mse: 42.1050\n",
            "Epoch 7/10\n",
            "3/3 - 0s - loss: 41.0291 - mse: 41.0291\n",
            "Epoch 8/10\n",
            "3/3 - 0s - loss: 40.0549 - mse: 40.0549\n",
            "Epoch 9/10\n",
            "3/3 - 0s - loss: 38.9310 - mse: 38.9310\n",
            "Epoch 10/10\n",
            "3/3 - 0s - loss: 37.7684 - mse: 37.7684\n",
            "WARNING:tensorflow:5 out of the last 5 calls to <function Model.make_predict_function.<locals>.predict_function at 0x7fe3b45e3cb0> triggered tf.function retracing. Tracing is expensive and the excessive number of tracings could be due to (1) creating @tf.function repeatedly in a loop, (2) passing tensors with different shapes, (3) passing Python objects instead of tensors. For (1), please define your @tf.function outside of the loop. For (2), @tf.function has experimental_relax_shapes=True option that relaxes argument shapes that can avoid unnecessary retracing. For (3), please refer to https://www.tensorflow.org/guide/function#controlling_retracing and https://www.tensorflow.org/api_docs/python/tf/function for  more details.\n",
            "예측값 : [[1.3789407]]\n"
          ],
          "name": "stdout"
        }
      ]
    },
    {
      "cell_type": "code",
      "metadata": {
        "id": "WZ9rAHfVk7y5"
      },
      "source": [
        ""
      ],
      "execution_count": null,
      "outputs": []
    }
  ]
}