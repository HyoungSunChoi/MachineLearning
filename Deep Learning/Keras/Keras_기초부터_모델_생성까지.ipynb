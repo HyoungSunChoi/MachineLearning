{
  "nbformat": 4,
  "nbformat_minor": 0,
  "metadata": {
    "colab": {
      "name": "Keras 기초부터 모델 생성까지",
      "provenance": [],
      "collapsed_sections": []
    },
    "kernelspec": {
      "name": "python3",
      "display_name": "Python 3"
    },
    "language_info": {
      "name": "python"
    }
  },
  "cells": [
    {
      "cell_type": "code",
      "metadata": {
        "id": "-SXQAFtNd_05"
      },
      "source": [
        "import numpy as np\n",
        "from tensorflow import keras"
      ],
      "execution_count": 1,
      "outputs": []
    },
    {
      "cell_type": "code",
      "metadata": {
        "colab": {
          "base_uri": "https://localhost:8080/",
          "height": 35
        },
        "id": "V26wi7KReGqU",
        "outputId": "ba724c6d-1563-425d-f45d-ec2044cd94cb"
      },
      "source": [
        "keras.__version__"
      ],
      "execution_count": 2,
      "outputs": [
        {
          "output_type": "execute_result",
          "data": {
            "application/vnd.google.colaboratory.intrinsic+json": {
              "type": "string"
            },
            "text/plain": [
              "'2.4.0'"
            ]
          },
          "metadata": {
            "tags": []
          },
          "execution_count": 2
        }
      ]
    },
    {
      "cell_type": "code",
      "metadata": {
        "colab": {
          "base_uri": "https://localhost:8080/"
        },
        "id": "lbT9O6MHeKte",
        "outputId": "84a19097-529c-47db-e06a-57e719277094"
      },
      "source": [
        "keras.layers.Dense(10, activation='sigmoid')"
      ],
      "execution_count": 3,
      "outputs": [
        {
          "output_type": "execute_result",
          "data": {
            "text/plain": [
              "<tensorflow.python.keras.layers.core.Dense at 0x7ff2700df290>"
            ]
          },
          "metadata": {
            "tags": []
          },
          "execution_count": 3
        }
      ]
    },
    {
      "cell_type": "code",
      "metadata": {
        "colab": {
          "base_uri": "https://localhost:8080/"
        },
        "id": "td0mpGCaeN58",
        "outputId": "3282119f-c6c7-43dc-aeb6-2a4a7470b4eb"
      },
      "source": [
        "keras.Model()"
      ],
      "execution_count": 4,
      "outputs": [
        {
          "output_type": "execute_result",
          "data": {
            "text/plain": [
              "<tensorflow.python.keras.engine.training.Model at 0x7ff2700e2c10>"
            ]
          },
          "metadata": {
            "tags": []
          },
          "execution_count": 4
        }
      ]
    },
    {
      "cell_type": "markdown",
      "metadata": {
        "id": "vzE7ePaQepRU"
      },
      "source": [
        "레이어들을 import 하는 방식\n",
        "- 일일이 import"
      ]
    },
    {
      "cell_type": "code",
      "metadata": {
        "id": "W4hnFxYAedIs"
      },
      "source": [
        "from tensorflow.keras.layers import Dense, Input, Flatten, Activation\n",
        "from tensorflow.keras.models import Sequential\n",
        "from tensorflow.keras import Model"
      ],
      "execution_count": 5,
      "outputs": []
    },
    {
      "cell_type": "code",
      "metadata": {
        "colab": {
          "base_uri": "https://localhost:8080/"
        },
        "id": "-V1lbyUDe3qc",
        "outputId": "e4babda6-6242-4083-f860-f9527baf8683"
      },
      "source": [
        "Dense(10, activation='relu')"
      ],
      "execution_count": 6,
      "outputs": [
        {
          "output_type": "execute_result",
          "data": {
            "text/plain": [
              "<tensorflow.python.keras.layers.core.Dense at 0x7ff2700e4e90>"
            ]
          },
          "metadata": {
            "tags": []
          },
          "execution_count": 6
        }
      ]
    },
    {
      "cell_type": "code",
      "metadata": {
        "colab": {
          "base_uri": "https://localhost:8080/"
        },
        "id": "DQE0sdW-e9fs",
        "outputId": "7998701e-92ab-436a-974b-7f6be95f3fad"
      },
      "source": [
        "Flatten(input_shape=[28,28])"
      ],
      "execution_count": 7,
      "outputs": [
        {
          "output_type": "execute_result",
          "data": {
            "text/plain": [
              "<tensorflow.python.keras.layers.core.Flatten at 0x7ff2700e29d0>"
            ]
          },
          "metadata": {
            "tags": []
          },
          "execution_count": 7
        }
      ]
    },
    {
      "cell_type": "code",
      "metadata": {
        "colab": {
          "base_uri": "https://localhost:8080/"
        },
        "id": "Yx83RTScfCDM",
        "outputId": "057dfa0e-4809-43e4-b767-b546e3060341"
      },
      "source": [
        "X_train = np.random.randn(5500,2)\n",
        "Input(shape=X_train.shape[1:])"
      ],
      "execution_count": 8,
      "outputs": [
        {
          "output_type": "execute_result",
          "data": {
            "text/plain": [
              "<KerasTensor: shape=(None, 2) dtype=float32 (created by layer 'input_1')>"
            ]
          },
          "metadata": {
            "tags": []
          },
          "execution_count": 8
        }
      ]
    },
    {
      "cell_type": "markdown",
      "metadata": {
        "id": "zkOY4BCDfP9s"
      },
      "source": [
        "### 주요 레이어\n",
        "\n",
        "#### Dense\n",
        "  - Fully-Connected Layer\n",
        "  - 노드수(유닛수), 활성화 함수 등을 지정\n",
        "  - name을 통한 레이어간 구분 가능\n",
        "  - 기본적으로 (Xavier 분포 초기화)'Glorot_uniform' 가중치로 사용, zeros bias 로 초기화\n",
        "  - kernel_initializer 인자를 통해 다른 가중치 초기화를 진행할 수 있음"
      ]
    },
    {
      "cell_type": "code",
      "metadata": {
        "colab": {
          "base_uri": "https://localhost:8080/"
        },
        "id": "XesYn0vGfmCD",
        "outputId": "5ceb269b-7871-4aca-f550-bf0e7111ce98"
      },
      "source": [
        "dense = Dense(10, activation='relu', name='Dense Layer')\n",
        "dense"
      ],
      "execution_count": 9,
      "outputs": [
        {
          "output_type": "execute_result",
          "data": {
            "text/plain": [
              "<tensorflow.python.keras.layers.core.Dense at 0x7ff2700e3e90>"
            ]
          },
          "metadata": {
            "tags": []
          },
          "execution_count": 9
        }
      ]
    },
    {
      "cell_type": "markdown",
      "metadata": {
        "id": "KsSM6Yfljdoi"
      },
      "source": [
        ""
      ]
    },
    {
      "cell_type": "code",
      "metadata": {
        "colab": {
          "base_uri": "https://localhost:8080/"
        },
        "id": "RtvsKne8f0lM",
        "outputId": "d7a86c4e-2e3a-4651-a5fa-b238b5d22b48"
      },
      "source": [
        "dense2= Dense(15, activation='softmax')\n",
        "dense2"
      ],
      "execution_count": 10,
      "outputs": [
        {
          "output_type": "execute_result",
          "data": {
            "text/plain": [
              "<tensorflow.python.keras.layers.core.Dense at 0x7ff23447efd0>"
            ]
          },
          "metadata": {
            "tags": []
          },
          "execution_count": 10
        }
      ]
    },
    {
      "cell_type": "markdown",
      "metadata": {
        "id": "VoUDv_eZgD3s"
      },
      "source": [
        "### Activation\n",
        "  - Dense layer 에서 미리 호라성화 함수를 지정할 수도 있지만, 때에 따라 따로 레이어를 만들 수 있다."
      ]
    },
    {
      "cell_type": "code",
      "metadata": {
        "colab": {
          "base_uri": "https://localhost:8080/"
        },
        "id": "Wvn84354f9Wr",
        "outputId": "a1b05388-fd96-4b4f-bb8f-7a5a334e5ec2"
      },
      "source": [
        "dense= Dense(10, kernel_initializer='he_normal', name='Dense Layer')\n",
        "dense=Activation(dense)\n",
        "dense"
      ],
      "execution_count": 11,
      "outputs": [
        {
          "output_type": "execute_result",
          "data": {
            "text/plain": [
              "<tensorflow.python.keras.layers.core.Activation at 0x7ff230cf8cd0>"
            ]
          },
          "metadata": {
            "tags": []
          },
          "execution_count": 11
        }
      ]
    },
    {
      "cell_type": "markdown",
      "metadata": {
        "id": "qeItI3zDjBjb"
      },
      "source": [
        "### Flatten\n",
        "- 배치 크기를 제외하고 데이터를 1차원으로 쭉 펼치는 작업\n",
        "- (128, 3, 2, 2 ) --> (128, 12)"
      ]
    },
    {
      "cell_type": "code",
      "metadata": {
        "id": "YWbgQj7pi7v8",
        "colab": {
          "base_uri": "https://localhost:8080/"
        },
        "outputId": "8fa88406-f142-4bc2-ca3b-d28f15a05376"
      },
      "source": [
        "Flatten(input_shape=(28,28))"
      ],
      "execution_count": 12,
      "outputs": [
        {
          "output_type": "execute_result",
          "data": {
            "text/plain": [
              "<tensorflow.python.keras.layers.core.Flatten at 0x7ff230cf8850>"
            ]
          },
          "metadata": {
            "tags": []
          },
          "execution_count": 12
        }
      ]
    },
    {
      "cell_type": "markdown",
      "metadata": {
        "id": "IDugoIpPNydp"
      },
      "source": [
        "### Input\n",
        "- 데이터를 실질적으로 받아오는 역할\n",
        "- 모델의 입력을 정의\n",
        "- shape, dtype 을 포함\n",
        "- 하나의 모델은 여러 개의 입력을 가질 수 있음\n",
        "- summary()  메소드를 통해서는 보이지 않음"
      ]
    },
    {
      "cell_type": "code",
      "metadata": {
        "id": "z7AL0z5zOOUy"
      },
      "source": [
        "import tensorflow as tf"
      ],
      "execution_count": 13,
      "outputs": []
    },
    {
      "cell_type": "code",
      "metadata": {
        "id": "fr48tgyDNXaj"
      },
      "source": [
        "input_1 = Input(shape=(28,28), dtype =tf.float32)\n",
        "input_2 = Input(shape=(8,), dtype=tf.int32)"
      ],
      "execution_count": 14,
      "outputs": []
    },
    {
      "cell_type": "code",
      "metadata": {
        "id": "6D2hS8mzOEmo",
        "colab": {
          "base_uri": "https://localhost:8080/"
        },
        "outputId": "45487448-3091-43fe-fb89-8b3d6ec240aa"
      },
      "source": [
        "input_1"
      ],
      "execution_count": 15,
      "outputs": [
        {
          "output_type": "execute_result",
          "data": {
            "text/plain": [
              "<KerasTensor: shape=(None, 28, 28) dtype=float32 (created by layer 'input_2')>"
            ]
          },
          "metadata": {
            "tags": []
          },
          "execution_count": 15
        }
      ]
    },
    {
      "cell_type": "code",
      "metadata": {
        "colab": {
          "base_uri": "https://localhost:8080/"
        },
        "id": "MrjAterkXjgE",
        "outputId": "bc9f8ba2-65a5-4cc2-f581-b17fa3bb6012"
      },
      "source": [
        "input_2"
      ],
      "execution_count": 16,
      "outputs": [
        {
          "output_type": "execute_result",
          "data": {
            "text/plain": [
              "<KerasTensor: shape=(None, 8) dtype=int32 (created by layer 'input_3')>"
            ]
          },
          "metadata": {
            "tags": []
          },
          "execution_count": 16
        }
      ]
    },
    {
      "cell_type": "markdown",
      "metadata": {
        "id": "SeLO0UOqXmRT"
      },
      "source": [
        "### 모델 구성 방법\n",
        "- Sequential()\n",
        "- 서브클래싱(Subclassing)\n",
        "- 함수형 API"
      ]
    },
    {
      "cell_type": "markdown",
      "metadata": {
        "id": "_gEpoKzIXrnK"
      },
      "source": [
        "### Sequential()\n",
        "- 모델이 순차적으로 진행할 때 사용\n",
        "- 간단한 방법\n",
        "  - Sequential 객체 생성 후, add를 통한 방법\n",
        "  - Sequential 인자에 한번에 추가\n",
        "- 다중 입력 및 출력이 존재하는 등의 복잡한 모델을 구성할 수 없음"
      ]
    },
    {
      "cell_type": "code",
      "metadata": {
        "id": "wxnSC1lXXkg0"
      },
      "source": [
        "from tensorflow.keras.layers import Dense, Input, Flatten\n",
        "from tensorflow.keras.models import Sequential, Model\n",
        "from tensorflow.keras.utils import plot_model\n",
        "# plot_model 은 시각화 유틸리티"
      ],
      "execution_count": 17,
      "outputs": []
    },
    {
      "cell_type": "code",
      "metadata": {
        "id": "ZgtvKwxKYGG7"
      },
      "source": [
        "model = Sequential()\n",
        "model.add(Input(shape=(28,28)))\n",
        "model.add(Dense(300, activation='relu'))\n",
        "model.add(Dense(100, activation='relu'))\n",
        "# 최종결과 확인\n",
        "model.add(Dense(10, activation='softmax'))"
      ],
      "execution_count": 18,
      "outputs": []
    },
    {
      "cell_type": "markdown",
      "metadata": {
        "id": "y1z34lAdZ4uq"
      },
      "source": [
        "[모델 구조 확인]\n",
        "- model 객체의 summary() 이용"
      ]
    },
    {
      "cell_type": "code",
      "metadata": {
        "colab": {
          "base_uri": "https://localhost:8080/"
        },
        "id": "ACKoN0ZwY5fQ",
        "outputId": "1f7a8f38-3567-4845-86aa-8735a96f198f"
      },
      "source": [
        "model.summary()"
      ],
      "execution_count": 19,
      "outputs": [
        {
          "output_type": "stream",
          "text": [
            "Model: \"sequential\"\n",
            "_________________________________________________________________\n",
            "Layer (type)                 Output Shape              Param #   \n",
            "=================================================================\n",
            "dense_3 (Dense)              (None, 28, 300)           8700      \n",
            "_________________________________________________________________\n",
            "dense_4 (Dense)              (None, 28, 100)           30100     \n",
            "_________________________________________________________________\n",
            "dense_5 (Dense)              (None, 28, 10)            1010      \n",
            "=================================================================\n",
            "Total params: 39,810\n",
            "Trainable params: 39,810\n",
            "Non-trainable params: 0\n",
            "_________________________________________________________________\n"
          ],
          "name": "stdout"
        }
      ]
    },
    {
      "cell_type": "code",
      "metadata": {
        "colab": {
          "base_uri": "https://localhost:8080/",
          "height": 369
        },
        "id": "GcPTJFxIZ99S",
        "outputId": "a2d7b24f-ce6d-4843-a5c3-9f2da64d8e54"
      },
      "source": [
        "plot_model(model)"
      ],
      "execution_count": 20,
      "outputs": [
        {
          "output_type": "execute_result",
          "data": {
            "image/png": "[encoded data removed]",
            "text/plain": [
              "<IPython.core.display.Image object>"
            ]
          },
          "metadata": {
            "tags": []
          },
          "execution_count": 20
        }
      ]
    },
    {
      "cell_type": "code",
      "metadata": {
        "colab": {
          "base_uri": "https://localhost:8080/",
          "height": 369
        },
        "id": "YlscNiubaL7z",
        "outputId": "e6bc3ffb-e48d-4831-bb49-e1a16650748c"
      },
      "source": [
        "plot_model(model, to_file='model1.png')"
      ],
      "execution_count": 21,
      "outputs": [
        {
          "output_type": "execute_result",
          "data": {
            "image/png": "[encoded data removed]",
            "text/plain": [
              "<IPython.core.display.Image object>"
            ]
          },
          "metadata": {
            "tags": []
          },
          "execution_count": 21
        }
      ]
    },
    {
      "cell_type": "code",
      "metadata": {
        "colab": {
          "base_uri": "https://localhost:8080/"
        },
        "id": "3H6RG4LwaTqC",
        "outputId": "038ed203-7225-47b8-d705-8095b0a89dbb"
      },
      "source": [
        "!ls"
      ],
      "execution_count": 22,
      "outputs": [
        {
          "output_type": "stream",
          "text": [
            "model1.png  model.png  sample_data\n"
          ],
          "name": "stdout"
        }
      ]
    },
    {
      "cell_type": "code",
      "metadata": {
        "id": "KCFM5prYaZuy"
      },
      "source": [
        "model = Sequential([Input(shape=(28,28), name='Input'),\n",
        "                    Dense(300, activation='relu', name='Dense1'),\n",
        "                    Dense(100, activation='relu', name='Dense2'),\n",
        "                    Dense(10, activation='softmax', name='Output')])"
      ],
      "execution_count": 23,
      "outputs": []
    },
    {
      "cell_type": "code",
      "metadata": {
        "colab": {
          "base_uri": "https://localhost:8080/"
        },
        "id": "QaIUKjvIa2yi",
        "outputId": "69a02c83-5c43-4482-b006-1936a03b1cba"
      },
      "source": [
        "model.summary()"
      ],
      "execution_count": 24,
      "outputs": [
        {
          "output_type": "stream",
          "text": [
            "Model: \"sequential_1\"\n",
            "_________________________________________________________________\n",
            "Layer (type)                 Output Shape              Param #   \n",
            "=================================================================\n",
            "Dense1 (Dense)               (None, 28, 300)           8700      \n",
            "_________________________________________________________________\n",
            "Dense2 (Dense)               (None, 28, 100)           30100     \n",
            "_________________________________________________________________\n",
            "Output (Dense)               (None, 28, 10)            1010      \n",
            "=================================================================\n",
            "Total params: 39,810\n",
            "Trainable params: 39,810\n",
            "Non-trainable params: 0\n",
            "_________________________________________________________________\n"
          ],
          "name": "stdout"
        }
      ]
    },
    {
      "cell_type": "code",
      "metadata": {
        "colab": {
          "base_uri": "https://localhost:8080/",
          "height": 369
        },
        "id": "6PM0WItHa84S",
        "outputId": "1797d50f-bb42-4b7b-8db5-5a73f6303c1e"
      },
      "source": [
        "plot_model(model)"
      ],
      "execution_count": 25,
      "outputs": [
        {
          "output_type": "execute_result",
          "data": {
            "image/png": "[encoded data removed]",
            "text/plain": [
              "<IPython.core.display.Image object>"
            ]
          },
          "metadata": {
            "tags": []
          },
          "execution_count": 25
        }
      ]
    },
    {
      "cell_type": "code",
      "metadata": {
        "colab": {
          "base_uri": "https://localhost:8080/",
          "height": 369
        },
        "id": "mK17E-IabBKC",
        "outputId": "0cd90756-f5a8-4cd9-da92-4fb5ce9d0e02"
      },
      "source": [
        "plot_model(model, to_file='model2.png')"
      ],
      "execution_count": 26,
      "outputs": [
        {
          "output_type": "execute_result",
          "data": {
            "image/png": "[encoded data removed]",
            "text/plain": [
              "<IPython.core.display.Image object>"
            ]
          },
          "metadata": {
            "tags": []
          },
          "execution_count": 26
        }
      ]
    },
    {
      "cell_type": "code",
      "metadata": {
        "colab": {
          "base_uri": "https://localhost:8080/"
        },
        "id": "vRJ9YCK9bFfS",
        "outputId": "41cb8ea5-365f-4235-d316-cffb93012759"
      },
      "source": [
        "!ls"
      ],
      "execution_count": 27,
      "outputs": [
        {
          "output_type": "stream",
          "text": [
            "model1.png  model2.png\tmodel.png  sample_data\n"
          ],
          "name": "stdout"
        }
      ]
    },
    {
      "cell_type": "markdown",
      "metadata": {
        "id": "KAcVxf3ObNUa"
      },
      "source": [
        "### 함수형 API\n",
        "- 가장 권장되는 방법\n",
        "- 모델을 복잡하고, 유연하게 구성 가능\n",
        "- 다중 입출력을 다룰 수 있음"
      ]
    },
    {
      "cell_type": "code",
      "metadata": {
        "id": "5LecyXEvbGQx"
      },
      "source": [
        "from tensorflow.keras.models import Model\n",
        "from tensorflow.keras.layers import Input, Flatten, Dense\n",
        "from tensorflow.keras.utils import plot_model"
      ],
      "execution_count": 28,
      "outputs": []
    },
    {
      "cell_type": "code",
      "metadata": {
        "id": "IfBWCaoUbeIC"
      },
      "source": [
        "inputs= Input(shape=(28,28,1))\n",
        "# 앞의 inputs 를 Flatten\n",
        "x = Flatten(input_shape=(28,28,1))(inputs)\n",
        "x = Dense(300, activation='relu')(x)\n",
        "x = Dense(100, activation='relu')(x)\n",
        "x = Dense(10, activation='softmax')(x)"
      ],
      "execution_count": 29,
      "outputs": []
    },
    {
      "cell_type": "code",
      "metadata": {
        "id": "i7USVp3MbzAx"
      },
      "source": [
        "model = Model(inputs=inputs, outputs=x)"
      ],
      "execution_count": 30,
      "outputs": []
    },
    {
      "cell_type": "code",
      "metadata": {
        "colab": {
          "base_uri": "https://localhost:8080/"
        },
        "id": "hM3jr7lQb6lR",
        "outputId": "d12872d7-0798-4f02-e42e-a24a239e174b"
      },
      "source": [
        "model.summary()"
      ],
      "execution_count": 31,
      "outputs": [
        {
          "output_type": "stream",
          "text": [
            "Model: \"model_1\"\n",
            "_________________________________________________________________\n",
            "Layer (type)                 Output Shape              Param #   \n",
            "=================================================================\n",
            "input_5 (InputLayer)         [(None, 28, 28, 1)]       0         \n",
            "_________________________________________________________________\n",
            "flatten_2 (Flatten)          (None, 784)               0         \n",
            "_________________________________________________________________\n",
            "dense_6 (Dense)              (None, 300)               235500    \n",
            "_________________________________________________________________\n",
            "dense_7 (Dense)              (None, 100)               30100     \n",
            "_________________________________________________________________\n",
            "dense_8 (Dense)              (None, 10)                1010      \n",
            "=================================================================\n",
            "Total params: 266,610\n",
            "Trainable params: 266,610\n",
            "Non-trainable params: 0\n",
            "_________________________________________________________________\n"
          ],
          "name": "stdout"
        }
      ]
    },
    {
      "cell_type": "code",
      "metadata": {
        "colab": {
          "base_uri": "https://localhost:8080/",
          "height": 466
        },
        "id": "FJceIPaIb7ey",
        "outputId": "cf7beced-f492-4101-f704-507aa2412011"
      },
      "source": [
        "plot_model(model)"
      ],
      "execution_count": 32,
      "outputs": [
        {
          "output_type": "execute_result",
          "data": {
            "image/png": "[encoded data removed]",
            "text/plain": [
              "<IPython.core.display.Image object>"
            ]
          },
          "metadata": {
            "tags": []
          },
          "execution_count": 32
        }
      ]
    },
    {
      "cell_type": "code",
      "metadata": {
        "colab": {
          "base_uri": "https://localhost:8080/",
          "height": 466
        },
        "id": "itZbMhPtcLGy",
        "outputId": "78f44c70-4f54-4a03-a029-396ed7a37d52"
      },
      "source": [
        "plot_model(model, to_file='model3.png')"
      ],
      "execution_count": 33,
      "outputs": [
        {
          "output_type": "execute_result",
          "data": {
            "image/png": "[encoded data removed]",
            "text/plain": [
              "<IPython.core.display.Image object>"
            ]
          },
          "metadata": {
            "tags": []
          },
          "execution_count": 33
        }
      ]
    },
    {
      "cell_type": "markdown",
      "metadata": {
        "id": "MK0mnJandCqR"
      },
      "source": [
        "## Concatenate\n",
        "- 2 개 이상의 레이어를 합치기"
      ]
    },
    {
      "cell_type": "code",
      "metadata": {
        "id": "T6GpDY1ucPfi"
      },
      "source": [
        "from tensorflow.keras.layers import Concatenate\n",
        "input_layer = Input(shape=(28,28))\n",
        "hidden1 = Dense(100, activation='relu')(input_layer)\n",
        "hidden2 = Dense(30, activation='relu')(hidden1)\n",
        "concat = Concatenate()([input_layer, hidden2])\n",
        "output = Dense(1)(concat)\n",
        "\n",
        "model = Model(inputs=[input_layer], outputs=[output])"
      ],
      "execution_count": 34,
      "outputs": []
    },
    {
      "cell_type": "code",
      "metadata": {
        "colab": {
          "base_uri": "https://localhost:8080/"
        },
        "id": "ipjP2P2Yc19y",
        "outputId": "8f4c9c2a-8290-4ec1-de79-49595434a42f"
      },
      "source": [
        "model.summary()"
      ],
      "execution_count": 35,
      "outputs": [
        {
          "output_type": "stream",
          "text": [
            "Model: \"model_2\"\n",
            "__________________________________________________________________________________________________\n",
            "Layer (type)                    Output Shape         Param #     Connected to                     \n",
            "==================================================================================================\n",
            "input_6 (InputLayer)            [(None, 28, 28)]     0                                            \n",
            "__________________________________________________________________________________________________\n",
            "dense_9 (Dense)                 (None, 28, 100)      2900        input_6[0][0]                    \n",
            "__________________________________________________________________________________________________\n",
            "dense_10 (Dense)                (None, 28, 30)       3030        dense_9[0][0]                    \n",
            "__________________________________________________________________________________________________\n",
            "concatenate (Concatenate)       (None, 28, 58)       0           input_6[0][0]                    \n",
            "                                                                 dense_10[0][0]                   \n",
            "__________________________________________________________________________________________________\n",
            "dense_11 (Dense)                (None, 28, 1)        59          concatenate[0][0]                \n",
            "==================================================================================================\n",
            "Total params: 5,989\n",
            "Trainable params: 5,989\n",
            "Non-trainable params: 0\n",
            "__________________________________________________________________________________________________\n"
          ],
          "name": "stdout"
        }
      ]
    },
    {
      "cell_type": "code",
      "metadata": {
        "colab": {
          "base_uri": "https://localhost:8080/",
          "height": 466
        },
        "id": "qOZbdlvSc26R",
        "outputId": "e9a8d02c-7494-4921-d3c0-de209b80ae10"
      },
      "source": [
        "plot_model(model)"
      ],
      "execution_count": 36,
      "outputs": [
        {
          "output_type": "execute_result",
          "data": {
            "image/png": "[encoded data removed]",
            "text/plain": [
              "<IPython.core.display.Image object>"
            ]
          },
          "metadata": {
            "tags": []
          },
          "execution_count": 36
        }
      ]
    },
    {
      "cell_type": "code",
      "metadata": {
        "colab": {
          "base_uri": "https://localhost:8080/",
          "height": 466
        },
        "id": "vbPLDS-Tc_Kh",
        "outputId": "8fce5c82-f5b8-40b6-d423-4e7db85841b8"
      },
      "source": [
        "plot_model(model, to_file='model4.png')"
      ],
      "execution_count": 37,
      "outputs": [
        {
          "output_type": "execute_result",
          "data": {
            "image/png": "[encoded data removed]",
            "text/plain": [
              "<IPython.core.display.Image object>"
            ]
          },
          "metadata": {
            "tags": []
          },
          "execution_count": 37
        }
      ]
    },
    {
      "cell_type": "markdown",
      "metadata": {
        "id": "mMK3pN_1eYU6"
      },
      "source": [
        "## 다중입력"
      ]
    },
    {
      "cell_type": "code",
      "metadata": {
        "id": "8V50y4JSdJOR"
      },
      "source": [
        "input_1 = Input(shape=(10,10), name='input_1')\n",
        "input_2 = Input(shape=(10,28), name='input_2')\n",
        "\n",
        "hidden1 = Dense(100, activation='relu')(input_2)\n",
        "hidden2 = Dense(10, activation='relu')(hidden1)\n",
        "concat = Concatenate()([input_1,hidden2])\n",
        "\n",
        "output = Dense(1, activation='sigmoid', name='output')(concat)\n",
        "\n",
        "model= Model(inputs=[input_1, input_2], outputs=output)"
      ],
      "execution_count": 38,
      "outputs": []
    },
    {
      "cell_type": "code",
      "metadata": {
        "colab": {
          "base_uri": "https://localhost:8080/"
        },
        "id": "tKujIm-Odu-B",
        "outputId": "ac30617f-b214-4f56-a134-cd4c0d0472ac"
      },
      "source": [
        "model.summary()"
      ],
      "execution_count": 39,
      "outputs": [
        {
          "output_type": "stream",
          "text": [
            "Model: \"model_3\"\n",
            "__________________________________________________________________________________________________\n",
            "Layer (type)                    Output Shape         Param #     Connected to                     \n",
            "==================================================================================================\n",
            "input_2 (InputLayer)            [(None, 10, 28)]     0                                            \n",
            "__________________________________________________________________________________________________\n",
            "dense_12 (Dense)                (None, 10, 100)      2900        input_2[0][0]                    \n",
            "__________________________________________________________________________________________________\n",
            "input_1 (InputLayer)            [(None, 10, 10)]     0                                            \n",
            "__________________________________________________________________________________________________\n",
            "dense_13 (Dense)                (None, 10, 10)       1010        dense_12[0][0]                   \n",
            "__________________________________________________________________________________________________\n",
            "concatenate_1 (Concatenate)     (None, 10, 20)       0           input_1[0][0]                    \n",
            "                                                                 dense_13[0][0]                   \n",
            "__________________________________________________________________________________________________\n",
            "output (Dense)                  (None, 10, 1)        21          concatenate_1[0][0]              \n",
            "==================================================================================================\n",
            "Total params: 3,931\n",
            "Trainable params: 3,931\n",
            "Non-trainable params: 0\n",
            "__________________________________________________________________________________________________\n"
          ],
          "name": "stdout"
        }
      ]
    },
    {
      "cell_type": "code",
      "metadata": {
        "colab": {
          "base_uri": "https://localhost:8080/",
          "height": 466
        },
        "id": "-Q3x4idkd9Dx",
        "outputId": "a312c4ed-a0aa-44c3-8623-9356b87f1547"
      },
      "source": [
        "plot_model(model)"
      ],
      "execution_count": 40,
      "outputs": [
        {
          "output_type": "execute_result",
          "data": {
            "image/png": "[encoded data removed]",
            "text/plain": [
              "<IPython.core.display.Image object>"
            ]
          },
          "metadata": {
            "tags": []
          },
          "execution_count": 40
        }
      ]
    },
    {
      "cell_type": "code",
      "metadata": {
        "colab": {
          "base_uri": "https://localhost:8080/",
          "height": 466
        },
        "id": "JMwggDWDd-jB",
        "outputId": "2cf9c27e-84e9-4deb-9b42-50b9af0bedb0"
      },
      "source": [
        "plot_model(model, to_file='model5.png')"
      ],
      "execution_count": 41,
      "outputs": [
        {
          "output_type": "execute_result",
          "data": {
            "image/png": "[encoded data removed]",
            "text/plain": [
              "<IPython.core.display.Image object>"
            ]
          },
          "metadata": {
            "tags": []
          },
          "execution_count": 41
        }
      ]
    },
    {
      "cell_type": "markdown",
      "metadata": {
        "id": "JRH08yBWeaEx"
      },
      "source": [
        "## 다중출력"
      ]
    },
    {
      "cell_type": "code",
      "metadata": {
        "id": "fLxhgLF9eVjx"
      },
      "source": [
        "input_ = Input(shape=(10,10), name='input_')\n",
        "\n",
        "hidden1 = Dense(100, activation='relu')(input_)\n",
        "hidden2 = Dense(10, activation='relu')(hidden1)\n",
        "\n",
        "output = Dense(1, activation='sigmoid', name='main_output')(hidden2)\n",
        "sub_out = Dense(1, name='sub_output')(hidden2)\n",
        "\n",
        "model= Model(inputs=[input_], outputs=[output,sub_out])"
      ],
      "execution_count": 42,
      "outputs": []
    },
    {
      "cell_type": "code",
      "metadata": {
        "colab": {
          "base_uri": "https://localhost:8080/"
        },
        "id": "HWzHFA7Iey3D",
        "outputId": "a7f3421d-8544-4913-9af4-8e5c84767ea9"
      },
      "source": [
        "model.summary()"
      ],
      "execution_count": 43,
      "outputs": [
        {
          "output_type": "stream",
          "text": [
            "Model: \"model_4\"\n",
            "__________________________________________________________________________________________________\n",
            "Layer (type)                    Output Shape         Param #     Connected to                     \n",
            "==================================================================================================\n",
            "input_ (InputLayer)             [(None, 10, 10)]     0                                            \n",
            "__________________________________________________________________________________________________\n",
            "dense_14 (Dense)                (None, 10, 100)      1100        input_[0][0]                     \n",
            "__________________________________________________________________________________________________\n",
            "dense_15 (Dense)                (None, 10, 10)       1010        dense_14[0][0]                   \n",
            "__________________________________________________________________________________________________\n",
            "main_output (Dense)             (None, 10, 1)        11          dense_15[0][0]                   \n",
            "__________________________________________________________________________________________________\n",
            "sub_output (Dense)              (None, 10, 1)        11          dense_15[0][0]                   \n",
            "==================================================================================================\n",
            "Total params: 2,132\n",
            "Trainable params: 2,132\n",
            "Non-trainable params: 0\n",
            "__________________________________________________________________________________________________\n"
          ],
          "name": "stdout"
        }
      ]
    },
    {
      "cell_type": "code",
      "metadata": {
        "colab": {
          "base_uri": "https://localhost:8080/",
          "height": 369
        },
        "id": "XK-sShske3zB",
        "outputId": "a8ff3da6-7359-4204-90bc-1dbfb351d109"
      },
      "source": [
        "plot_model(model)"
      ],
      "execution_count": 44,
      "outputs": [
        {
          "output_type": "execute_result",
          "data": {
            "image/png": "[encoded data removed]",
            "text/plain": [
              "<IPython.core.display.Image object>"
            ]
          },
          "metadata": {
            "tags": []
          },
          "execution_count": 44
        }
      ]
    },
    {
      "cell_type": "code",
      "metadata": {
        "colab": {
          "base_uri": "https://localhost:8080/",
          "height": 369
        },
        "id": "hmA8DwPie5QB",
        "outputId": "057fe88e-1f85-4cf3-ace1-3b5ae899be99"
      },
      "source": [
        "plot_model(model, to_file='model6.png')"
      ],
      "execution_count": 45,
      "outputs": [
        {
          "output_type": "execute_result",
          "data": {
            "image/png": "[encoded data removed]",
            "text/plain": [
              "<IPython.core.display.Image object>"
            ]
          },
          "metadata": {
            "tags": []
          },
          "execution_count": 45
        }
      ]
    },
    {
      "cell_type": "markdown",
      "metadata": {
        "id": "lJGaI-E3e_fv"
      },
      "source": [
        "## 입력, 출력 다중인 경우"
      ]
    },
    {
      "cell_type": "code",
      "metadata": {
        "id": "PVPCn82De-qe"
      },
      "source": [
        "input_1 = Input(shape=(10,10), name='input_1')\n",
        "input_2 = Input(shape=(10,28), name='input_2')\n",
        "\n",
        "hidden1 = Dense(100, activation='relu')(input_2)\n",
        "hidden2 = Dense(10, activation='relu')(hidden1)\n",
        "concat= Concatenate()([input_1, hidden2])\n",
        "\n",
        "output = Dense(1, activation='sigmoid', name='main_output')(concat)\n",
        "sub_out = Dense(1, name='sum_output')(hidden2)\n",
        "\n",
        "model = Model(inputs=[input_1, input_2], outputs = [output, sub_out])"
      ],
      "execution_count": 46,
      "outputs": []
    },
    {
      "cell_type": "code",
      "metadata": {
        "colab": {
          "base_uri": "https://localhost:8080/"
        },
        "id": "_8vg3dNafdxi",
        "outputId": "b420f0cc-e46c-496b-fc63-446686d5f080"
      },
      "source": [
        "model.summary()"
      ],
      "execution_count": 47,
      "outputs": [
        {
          "output_type": "stream",
          "text": [
            "Model: \"model_5\"\n",
            "__________________________________________________________________________________________________\n",
            "Layer (type)                    Output Shape         Param #     Connected to                     \n",
            "==================================================================================================\n",
            "input_2 (InputLayer)            [(None, 10, 28)]     0                                            \n",
            "__________________________________________________________________________________________________\n",
            "dense_16 (Dense)                (None, 10, 100)      2900        input_2[0][0]                    \n",
            "__________________________________________________________________________________________________\n",
            "input_1 (InputLayer)            [(None, 10, 10)]     0                                            \n",
            "__________________________________________________________________________________________________\n",
            "dense_17 (Dense)                (None, 10, 10)       1010        dense_16[0][0]                   \n",
            "__________________________________________________________________________________________________\n",
            "concatenate_2 (Concatenate)     (None, 10, 20)       0           input_1[0][0]                    \n",
            "                                                                 dense_17[0][0]                   \n",
            "__________________________________________________________________________________________________\n",
            "main_output (Dense)             (None, 10, 1)        21          concatenate_2[0][0]              \n",
            "__________________________________________________________________________________________________\n",
            "sum_output (Dense)              (None, 10, 1)        11          dense_17[0][0]                   \n",
            "==================================================================================================\n",
            "Total params: 3,942\n",
            "Trainable params: 3,942\n",
            "Non-trainable params: 0\n",
            "__________________________________________________________________________________________________\n"
          ],
          "name": "stdout"
        }
      ]
    },
    {
      "cell_type": "code",
      "metadata": {
        "colab": {
          "base_uri": "https://localhost:8080/",
          "height": 466
        },
        "id": "7Zs3XTBWfsQO",
        "outputId": "14b6b1fd-2560-40f6-911a-3c2d935eec19"
      },
      "source": [
        "plot_model(model)"
      ],
      "execution_count": 48,
      "outputs": [
        {
          "output_type": "execute_result",
          "data": {
            "image/png": "[encoded data removed]",
            "text/plain": [
              "<IPython.core.display.Image object>"
            ]
          },
          "metadata": {
            "tags": []
          },
          "execution_count": 48
        }
      ]
    },
    {
      "cell_type": "code",
      "metadata": {
        "colab": {
          "base_uri": "https://localhost:8080/",
          "height": 466
        },
        "id": "fUzrcy0GftO-",
        "outputId": "d7f65082-7638-460d-a68d-4f5acebfce50"
      },
      "source": [
        "plot_model(model, to_file='model7.png')"
      ],
      "execution_count": 49,
      "outputs": [
        {
          "output_type": "execute_result",
          "data": {
            "image/png": "[encoded data removed]",
            "text/plain": [
              "<IPython.core.display.Image object>"
            ]
          },
          "metadata": {
            "tags": []
          },
          "execution_count": 49
        }
      ]
    },
    {
      "cell_type": "markdown",
      "metadata": {
        "id": "q4ClwADIgDji"
      },
      "source": [
        "## 서브클래싱(Subclassing)\n",
        "- 커스터마이징에 최적화된 방법\n",
        "- Model 클래스를 상속받아 Model 이 포함하는 기능을 사용할 수 있음\n",
        "  - fit(), evaluate(), predict()\n",
        "  - save(), load()\n",
        "- 주로 call() 메소드 안에서 원하는 계산 가능\n",
        "  - for, if , 저수준 연산 등\n",
        "- 권장되는 방법은 아니지만, 어떤 모델의 구현 코드를 참고할 때 해석할줄 알아야 한다!"
      ]
    },
    {
      "cell_type": "code",
      "metadata": {
        "id": "96-NiS-XgCKQ"
      },
      "source": [
        "from tensorflow.keras.models import Model\n",
        "from tensorflow.keras.layers import Input, Dense, Flatten\n",
        "from tensorflow.keras.utils import plot_model\n"
      ],
      "execution_count": 50,
      "outputs": []
    },
    {
      "cell_type": "code",
      "metadata": {
        "id": "tIlxWJDYgfKB"
      },
      "source": [
        "class MyModel(Model):\n",
        "  def __init__(self, units=30, activation='relu', **kwargs):\n",
        "    super(MyModel, self).__init__(**kwargs)\n",
        "\n",
        "    self.dense_layer1 = Dense(300, activation=activation)\n",
        "    self.dense_layer2 = Dense(100, activation=activation)\n",
        "    self.dense_layer3 = Dense(units, activation=activation)\n",
        "    self.output_layer = Dense(10, activation='softmax')\n",
        "\n",
        "  def call(self, inputs):\n",
        "    x = self.dense_layer1(inputs)\n",
        "    x = self.dense_layer2(x)\n",
        "    x = self.dense_layer3(x)\n",
        "    x = self.output_layer(x)\n",
        "    return x"
      ],
      "execution_count": 51,
      "outputs": []
    },
    {
      "cell_type": "markdown",
      "metadata": {
        "id": "BvaTqoVThEVg"
      },
      "source": [
        "## 모델 가중치 확인"
      ]
    },
    {
      "cell_type": "code",
      "metadata": {
        "id": "3BplIAAvhDDI"
      },
      "source": [
        "from tensorflow.keras.models import Model\n",
        "from tensorflow.keras.layers import Input, Flatten, Dense\n",
        "from tensorflow.keras.utils import plot_model"
      ],
      "execution_count": 52,
      "outputs": []
    },
    {
      "cell_type": "code",
      "metadata": {
        "id": "m2oRikqshOEA"
      },
      "source": [
        "inputs = Input(shape=(28,28,1))\n",
        "x=Flatten(input_shape=(28,28,1))(inputs)\n",
        "x=Dense(300, activation='relu')(x)\n",
        "x=Dense(100, activation='relu')(x)\n",
        "x=Dense(10, activation='softmax')(x)\n",
        "\n",
        "model = Model(inputs=inputs, outputs=x)"
      ],
      "execution_count": 53,
      "outputs": []
    },
    {
      "cell_type": "code",
      "metadata": {
        "colab": {
          "base_uri": "https://localhost:8080/"
        },
        "id": "Tjp66N5mheQB",
        "outputId": "2ad93ab5-3d16-4401-927a-89ce3f1c8f8c"
      },
      "source": [
        "model.summary()"
      ],
      "execution_count": 54,
      "outputs": [
        {
          "output_type": "stream",
          "text": [
            "Model: \"model_6\"\n",
            "_________________________________________________________________\n",
            "Layer (type)                 Output Shape              Param #   \n",
            "=================================================================\n",
            "input_7 (InputLayer)         [(None, 28, 28, 1)]       0         \n",
            "_________________________________________________________________\n",
            "flatten_3 (Flatten)          (None, 784)               0         \n",
            "_________________________________________________________________\n",
            "dense_18 (Dense)             (None, 300)               235500    \n",
            "_________________________________________________________________\n",
            "dense_19 (Dense)             (None, 100)               30100     \n",
            "_________________________________________________________________\n",
            "dense_20 (Dense)             (None, 10)                1010      \n",
            "=================================================================\n",
            "Total params: 266,610\n",
            "Trainable params: 266,610\n",
            "Non-trainable params: 0\n",
            "_________________________________________________________________\n"
          ],
          "name": "stdout"
        }
      ]
    },
    {
      "cell_type": "markdown",
      "metadata": {
        "id": "O441och8hgfC"
      },
      "source": [
        "## 모델의 레이어들이 리스트로 표현됨"
      ]
    },
    {
      "cell_type": "code",
      "metadata": {
        "colab": {
          "base_uri": "https://localhost:8080/"
        },
        "id": "-boAUOlzhfT_",
        "outputId": "9f3e1d3c-7eb1-446e-c447-6785448db1a4"
      },
      "source": [
        "model.layers"
      ],
      "execution_count": 55,
      "outputs": [
        {
          "output_type": "execute_result",
          "data": {
            "text/plain": [
              "[<tensorflow.python.keras.engine.input_layer.InputLayer at 0x7ff2303eef90>,\n",
              " <tensorflow.python.keras.layers.core.Flatten at 0x7ff23044b7d0>,\n",
              " <tensorflow.python.keras.layers.core.Dense at 0x7ff230487950>,\n",
              " <tensorflow.python.keras.layers.core.Dense at 0x7ff2304e1e90>,\n",
              " <tensorflow.python.keras.layers.core.Dense at 0x7ff230c88110>]"
            ]
          },
          "metadata": {
            "tags": []
          },
          "execution_count": 55
        }
      ]
    },
    {
      "cell_type": "code",
      "metadata": {
        "colab": {
          "base_uri": "https://localhost:8080/",
          "height": 35
        },
        "id": "Q2Di5obBhjLP",
        "outputId": "bc7110f9-a20f-4d64-87a5-e3098b83e2b2"
      },
      "source": [
        "hidden_2 = model.layers[2]\n",
        "hidden_2.name"
      ],
      "execution_count": 56,
      "outputs": [
        {
          "output_type": "execute_result",
          "data": {
            "application/vnd.google.colaboratory.intrinsic+json": {
              "type": "string"
            },
            "text/plain": [
              "'dense_18'"
            ]
          },
          "metadata": {
            "tags": []
          },
          "execution_count": 56
        }
      ]
    },
    {
      "cell_type": "code",
      "metadata": {
        "colab": {
          "base_uri": "https://localhost:8080/"
        },
        "id": "5Z5g_mtqho8P",
        "outputId": "57963a3d-a7c5-4aa1-831b-5a0eb7ee3a82"
      },
      "source": [
        "weights, biases = hidden_2.get_weights()\n",
        "weights"
      ],
      "execution_count": 57,
      "outputs": [
        {
          "output_type": "execute_result",
          "data": {
            "text/plain": [
              "array([[-0.05006802,  0.02065547, -0.04808326, ...,  0.01930054,\n",
              "         0.03580095, -0.02694128],\n",
              "       [-0.04709356, -0.0439853 ,  0.03059104, ..., -0.03791216,\n",
              "        -0.06931006, -0.0060112 ],\n",
              "       [ 0.03168949,  0.04270858,  0.02742377, ..., -0.00476027,\n",
              "         0.02976447,  0.06352611],\n",
              "       ...,\n",
              "       [ 0.05166478, -0.05225855, -0.04638218, ...,  0.03771467,\n",
              "         0.00077138, -0.03039002],\n",
              "       [ 0.02858542,  0.01579893, -0.022427  , ..., -0.06060627,\n",
              "        -0.0687187 ,  0.0092288 ],\n",
              "       [ 0.06035057, -0.01908363,  0.06751955, ..., -0.03905235,\n",
              "         0.00746906, -0.0354546 ]], dtype=float32)"
            ]
          },
          "metadata": {
            "tags": []
          },
          "execution_count": 57
        }
      ]
    },
    {
      "cell_type": "code",
      "metadata": {
        "colab": {
          "base_uri": "https://localhost:8080/"
        },
        "id": "JAhi19Hkh9z_",
        "outputId": "e701d413-23b4-4c06-d880-dbd27726a385"
      },
      "source": [
        "biases"
      ],
      "execution_count": 58,
      "outputs": [
        {
          "output_type": "execute_result",
          "data": {
            "text/plain": [
              "array([0., 0., 0., 0., 0., 0., 0., 0., 0., 0., 0., 0., 0., 0., 0., 0., 0.,\n",
              "       0., 0., 0., 0., 0., 0., 0., 0., 0., 0., 0., 0., 0., 0., 0., 0., 0.,\n",
              "       0., 0., 0., 0., 0., 0., 0., 0., 0., 0., 0., 0., 0., 0., 0., 0., 0.,\n",
              "       0., 0., 0., 0., 0., 0., 0., 0., 0., 0., 0., 0., 0., 0., 0., 0., 0.,\n",
              "       0., 0., 0., 0., 0., 0., 0., 0., 0., 0., 0., 0., 0., 0., 0., 0., 0.,\n",
              "       0., 0., 0., 0., 0., 0., 0., 0., 0., 0., 0., 0., 0., 0., 0., 0., 0.,\n",
              "       0., 0., 0., 0., 0., 0., 0., 0., 0., 0., 0., 0., 0., 0., 0., 0., 0.,\n",
              "       0., 0., 0., 0., 0., 0., 0., 0., 0., 0., 0., 0., 0., 0., 0., 0., 0.,\n",
              "       0., 0., 0., 0., 0., 0., 0., 0., 0., 0., 0., 0., 0., 0., 0., 0., 0.,\n",
              "       0., 0., 0., 0., 0., 0., 0., 0., 0., 0., 0., 0., 0., 0., 0., 0., 0.,\n",
              "       0., 0., 0., 0., 0., 0., 0., 0., 0., 0., 0., 0., 0., 0., 0., 0., 0.,\n",
              "       0., 0., 0., 0., 0., 0., 0., 0., 0., 0., 0., 0., 0., 0., 0., 0., 0.,\n",
              "       0., 0., 0., 0., 0., 0., 0., 0., 0., 0., 0., 0., 0., 0., 0., 0., 0.,\n",
              "       0., 0., 0., 0., 0., 0., 0., 0., 0., 0., 0., 0., 0., 0., 0., 0., 0.,\n",
              "       0., 0., 0., 0., 0., 0., 0., 0., 0., 0., 0., 0., 0., 0., 0., 0., 0.,\n",
              "       0., 0., 0., 0., 0., 0., 0., 0., 0., 0., 0., 0., 0., 0., 0., 0., 0.,\n",
              "       0., 0., 0., 0., 0., 0., 0., 0., 0., 0., 0., 0., 0., 0., 0., 0., 0.,\n",
              "       0., 0., 0., 0., 0., 0., 0., 0., 0., 0., 0.], dtype=float32)"
            ]
          },
          "metadata": {
            "tags": []
          },
          "execution_count": 58
        }
      ]
    },
    {
      "cell_type": "code",
      "metadata": {
        "colab": {
          "base_uri": "https://localhost:8080/"
        },
        "id": "g94kdFmViAxQ",
        "outputId": "3c6d077a-d74e-4129-86de-b46bc6efb1cc"
      },
      "source": [
        "print(weights.shape)\n",
        "print(biases.shape)"
      ],
      "execution_count": 59,
      "outputs": [
        {
          "output_type": "stream",
          "text": [
            "(784, 300)\n",
            "(300,)\n"
          ],
          "name": "stdout"
        }
      ]
    },
    {
      "cell_type": "markdown",
      "metadata": {
        "id": "Bpq3nAux5Sp2"
      },
      "source": [
        "## 모델 컴파일(compile)\n",
        "- 모델을 구성한 후 , 사용할 손실함수(loss), 옵티마이저(optimizer)를 지정\n",
        "\n",
        "- sparse_categorical_crossentropy\n",
        "  - 클래스가 배타적, 즉 MNIST 예제에서 (0,1,2, ..., 9) 와 같은 방식으로 구분되어 있을 때 사용\n",
        "- categorical_cross_entropy\n",
        "  - 클래스가 원 - 핫 인코딩 방식으로 되어 있을 때 사용\n",
        "  - binary_crossentropy 이진 분류를 수행할 때 사용\n"
      ]
    },
    {
      "cell_type": "code",
      "metadata": {
        "id": "FnoNi2hSiEd-"
      },
      "source": [
        "model.compile(loss='sparse_categorical_crossentropy',\n",
        "              optimizer='sgd',\n",
        "              metrics=['accuracy'])"
      ],
      "execution_count": 61,
      "outputs": []
    },
    {
      "cell_type": "markdown",
      "metadata": {
        "id": "uZ-9DCqH52CN"
      },
      "source": [
        "\n",
        "## Optimizer\n",
        "- keras.optimizer.SGD() 등과 같이 사용 가능\n",
        "  - 보통 옵티마이저의 튜닝을 위해 따로 객체를 생성하여 컴파일"
      ]
    },
    {
      "cell_type": "code",
      "metadata": {
        "id": "_szvq00g5PnK"
      },
      "source": [
        "optimizer= keras.optimizer.SGD(learning_rate=1e-5)\n",
        "model.compile(...,\n",
        "              optimizer=optimizer,\n",
        "              ...))"
      ],
      "execution_count": null,
      "outputs": []
    },
    {
      "cell_type": "markdown",
      "metadata": {
        "id": "759S4NR85-ZQ"
      },
      "source": [
        "## Metrics \n",
        "- 모니터링할 지표\n",
        "- 주로 accuracy, acc 로 지정"
      ]
    },
    {
      "cell_type": "markdown",
      "metadata": {
        "id": "aLCyVglB6CQN"
      },
      "source": [
        "## 컴파일 설정 예시"
      ]
    },
    {
      "cell_type": "code",
      "metadata": {
        "id": "_cNQfpoa6NZM"
      },
      "source": [
        "# 평균 제곱 오차 회귀문제 \n",
        "model.compile(loss = 'mse',\n",
        "              optimizer = RMSprop(),\n",
        "              metrics=['mae'])\n",
        "\n",
        "# 이진 분류\n",
        "model.compile(loss='binary_crossentropy',\n",
        "              optimizer=RMSprop(),\n",
        "              metrics=['accuracy'])\n",
        "\n",
        "# 다항 분류\n",
        "model.compile(loss='categorical_crossentropy',\n",
        "              optimizer= RMSprop(),\n",
        "              metrics=['accuracy'])"
      ],
      "execution_count": null,
      "outputs": []
    },
    {
      "cell_type": "markdown",
      "metadata": {
        "id": "hWXoJ9d56kAM"
      },
      "source": [
        "## 모델 훈련 , 평가 및 예측\n",
        "- fit() 함수\n",
        "  - train_data(학습 데이터), train_label(데이터의 정답)\n",
        "  - epochs : 얼만큼 학습을 시킬 것인가\n",
        "  - batch_size\n",
        "  - validation_data\n",
        "- evaluate() 함수 : 평가를 위해 사용되는 함수\n",
        "  - 테스트 데이터\n",
        "- predict() 함수 : 임의의 데이터를 인자로 넣어 예측 가능"
      ]
    },
    {
      "cell_type": "markdown",
      "metadata": {
        "id": "oQVtnljG60Cw"
      },
      "source": [
        ""
      ]
    },
    {
      "cell_type": "code",
      "metadata": {
        "id": "D6hTOFc26jSX"
      },
      "source": [
        ""
      ],
      "execution_count": null,
      "outputs": []
    }
  ]
}