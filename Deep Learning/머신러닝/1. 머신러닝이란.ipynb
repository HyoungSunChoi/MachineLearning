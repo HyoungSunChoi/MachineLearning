{
 "cells": [
  {
   "cell_type": "markdown",
   "id": "6123aa6a",
   "metadata": {},
   "source": [
    "[지도 학습] \n",
    "- supervised Learning\n",
    "- 측정된 특징(feature)와 데이터와 관련된 레이블(label) 사이의 관계를 모델링하는 것\n",
    "- 새 데이터를 레이블에 적용한다\n",
    "    - [분류(classification)]\n",
    "        - 이산적인 범주\n",
    "    - [회귀(regression)]\n",
    "        - 연속적인 수량\n",
    "\n",
    "\n",
    "[비지도 학습]\n",
    "- unsupervised Learning\n",
    "    - [군집화(clustering)]\n",
    "        - 데이터 개별 그룹을 식별\n",
    "    - [차원 축소(dimensionality reduction)]\n",
    "        - 데이터를 간결하게 표현"
   ]
  },
  {
   "cell_type": "code",
   "execution_count": null,
   "id": "a6ab4062",
   "metadata": {},
   "outputs": [],
   "source": []
  }
 ],
 "metadata": {
  "kernelspec": {
   "display_name": "Python 3",
   "language": "python",
   "name": "python3"
  },
  "language_info": {
   "codemirror_mode": {
    "name": "ipython",
    "version": 3
   },
   "file_extension": ".py",
   "mimetype": "text/x-python",
   "name": "python",
   "nbconvert_exporter": "python",
   "pygments_lexer": "ipython3",
   "version": "3.7.3"
  }
 },
 "nbformat": 4,
 "nbformat_minor": 5
}
