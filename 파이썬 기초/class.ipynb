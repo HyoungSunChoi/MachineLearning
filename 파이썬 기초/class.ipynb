{
 "cells": [
  {
   "cell_type": "markdown",
   "metadata": {},
   "source": [
    "### class 란?\n",
    "- 실세계의 것을 모델링하여 속성과 동작을 갖는 데이터 타입\n",
    "- python 에서의 string int list dict 모두가 클래스로 존재\n",
    "- 예를 들어 학생이라는 클래스를 만들면 학생을 나타내는 속성과 학생이 행하는 행동을 정의\n",
    "- 다루고자 하는 데이터와 데이터를 다루는 연산을 하나로 캡슐화하여 클래스로 표현\n",
    "- 모델링에서 중요시 하는 속성에 따라 클래스의 속성과 행동이 각각 달라짐"
   ]
  },
  {
   "cell_type": "code",
   "execution_count": 1,
   "metadata": {},
   "outputs": [
    {
     "name": "stdout",
     "output_type": "stream",
     "text": [
      "[1, 2, 3, 4, 5]\n"
     ]
    }
   ],
   "source": [
    "a=[1,2,3,4]\n",
    "a.append(5)\n",
    "print(a)"
   ]
  },
  {
   "cell_type": "markdown",
   "metadata": {},
   "source": [
    "### object 란?\n",
    "- 클래스로 생성되어 구체화 된 객체(인스턴스)\n",
    "- 파이썬의 모든것은 객체\n",
    "- 실제로 class 가 인스턴스화 되어 메모리에 상주하는 상태를 의미한다\n",
    "- class 가 빵틀이라면 object 는 찍어낸 빵"
   ]
  },
  {
   "cell_type": "markdown",
   "metadata": {},
   "source": [
    "### class 선언하기\n",
    "- 객체를 생성하기 위해 class 를 선언한다"
   ]
  },
  {
   "cell_type": "code",
   "execution_count": 4,
   "metadata": {},
   "outputs": [],
   "source": [
    "class Person : \n",
    "    pass   # 정의 없이 실행하고 싶다면 입력해야한다!!!\n",
    "            # 입력하지 않을 경우 EOF 오류 발생"
   ]
  },
  {
   "cell_type": "code",
   "execution_count": 6,
   "metadata": {},
   "outputs": [
    {
     "name": "stdout",
     "output_type": "stream",
     "text": [
      "<class '__main__.Person'> <class '__main__.Person'> <class 'list'> <class 'list'>\n"
     ]
    }
   ],
   "source": [
    "bob=Person()    # bob, cathy 객체 생성\n",
    "cathy=Person()\n",
    "a=list()        # a, b 리스트 형태의 객체 생성\n",
    "b=list()\n",
    "print(type(bob),type(cathy),type(a),type(b))"
   ]
  },
  {
   "cell_type": "markdown",
   "metadata": {},
   "source": [
    "### init(self)\n",
    "- 생성자, 클래스 인스턴스가 생성될 때 호출됨\n",
    "- self 인자는 항상 첫번째로 오며, 자기 자신을 가리킨다.\n",
    "- 이름은 딴걸로 가능하지만 self 로 쓰자 \n",
    "- 생성시에는 해당 클랙스가 다루는 데이터를 정의\n",
    "    - 이 데이터를 멤버 변수(member variable) 또는 속성(attribute)라고 함"
   ]
  },
  {
   "cell_type": "code",
   "execution_count": 13,
   "metadata": {},
   "outputs": [
    {
     "name": "stdout",
     "output_type": "stream",
     "text": [
      "<__main__.Person object at 0x0000021C9CBC9F48> is generated\n",
      "Aron 20\n",
      "<__main__.Person object at 0x0000021C9CBBE4C8> is generated\n",
      "10\n"
     ]
    }
   ],
   "source": [
    "class Person:\n",
    "    def __init__(self):\n",
    "        print(self,'is generated')\n",
    "        self.name='Kate'\n",
    "        self.age=10\n",
    "p1= Person()\n",
    "p1.name='Aron'\n",
    "p1.age=20\n",
    "print(p1.name,p1.age)\n",
    "p2= Person()\n",
    "print(p2.age)"
   ]
  },
  {
   "cell_type": "code",
   "execution_count": 17,
   "metadata": {},
   "outputs": [
    {
     "name": "stdout",
     "output_type": "stream",
     "text": [
      "Bob 30\n",
      "Kate 20\n",
      "Aron 10\n"
     ]
    }
   ],
   "source": [
    "class Person:\n",
    "    def __init__(self,name,age=10):# self 는 무조건 필요하다!!!!,,, 또한 파라미터 값을 설정할 수 있다.\n",
    "        #print(self,'is generated')\n",
    "        self.name=name\n",
    "        self.age=age\n",
    "p1=Person('Bob',30)\n",
    "p2=Person('Kate',20)\n",
    "p3=Person('Aron')\n",
    "\n",
    "print(p1.name,p1.age)\n",
    "print(p2.name,p2.age)\n",
    "print(p3.name,p3.age)"
   ]
  },
  {
   "cell_type": "markdown",
   "metadata": {},
   "source": [
    "### self\n",
    "- 파이썬의 method 는 항상 첫번째 인자로 self를 전달\n",
    "- self는 현재 해당 메쏘드가 호출되는 객체 자신을 가리킨다."
   ]
  },
  {
   "cell_type": "code",
   "execution_count": 18,
   "metadata": {},
   "outputs": [
    {
     "name": "stdout",
     "output_type": "stream",
     "text": [
      "<__main__.Person object at 0x0000021C9CE47F48>\n",
      "<__main__.Person object at 0x0000021C9CD2D608>\n",
      "Aron 은 잠을 잡니다\n"
     ]
    }
   ],
   "source": [
    "class Person:\n",
    "    def __init__(self,name,age):\n",
    "        self.name=name\n",
    "        self.age=age\n",
    "        \n",
    "    def sleep(self):\n",
    "        print(self.name, '은 잠을 잡니다')\n",
    "a=Person(\"Aron\",20)\n",
    "b=Person('Bob',30)\n",
    "\n",
    "print(a)\n",
    "print(b)\n",
    "\n",
    "a.sleep()"
   ]
  },
  {
   "cell_type": "markdown",
   "metadata": {},
   "source": [
    "### method 정의\n",
    "- 멤버함수라고도 한다\n",
    "- 메소드는 객체 레벨에서 호출되며, 해당 속성에 대한 연산을 행한다.\n",
    "- obj.methond()형태로 호출"
   ]
  },
  {
   "cell_type": "code",
   "execution_count": 30,
   "metadata": {},
   "outputs": [
    {
     "name": "stdout",
     "output_type": "stream",
     "text": [
      "현재값은:  2\n",
      "현재값은:  0\n",
      "현재값은:  0\n"
     ]
    }
   ],
   "source": [
    "# 1. 숫자를 하나 증가\n",
    "# 2. 숫자를 0으로 초기화\n",
    "class Counter:\n",
    "    def __init__(self):\n",
    "        self.num=0\n",
    "    def increment(self):\n",
    "        self.num+=1\n",
    "    def reset(self):\n",
    "        self.num=0\n",
    "    def print_current_value(self):\n",
    "        print('현재값은: ',self.num)\n",
    "c1=Counter()\n",
    "c1.increment()\n",
    "c1.increment()\n",
    "c1.print_current_value()\n",
    "c1.reset()\n",
    "c1.print_current_value()\n",
    "c2=Counter()\n",
    "c2.print_current_value()"
   ]
  },
  {
   "cell_type": "markdown",
   "metadata": {},
   "source": [
    "### method type\n",
    "- instance method - 객체로 호출\n",
    "    - 메소드는 객체 레벨로 호출 되기 때문에, 해당 메소드를 호출한 객체에만 영향을 미친다\n",
    "- class method(static method) - class 로 호출\n",
    "    - 클래스 메소드의 경우, 클래스 레벨로 호출되기 때문ㅇ, 클래스 멤버 변수만 변경 가능"
   ]
  },
  {
   "cell_type": "code",
   "execution_count": 40,
   "metadata": {},
   "outputs": [
    {
     "data": {
      "text/plain": [
       "200"
      ]
     },
     "execution_count": 40,
     "metadata": {},
     "output_type": "execute_result"
    }
   ],
   "source": [
    "class Math:\n",
    "    def add(self,a,b):\n",
    "        return a+b\n",
    "    \n",
    "    def mul(self,a,b):\n",
    "        return a*b\n",
    "#staticmethod 사용하지 않은 경우\n",
    "m=Math()\n",
    "m.add(10,20)\n",
    "m.mul(10,20)\n",
    "\n"
   ]
  },
  {
   "cell_type": "code",
   "execution_count": 38,
   "metadata": {},
   "outputs": [
    {
     "data": {
      "text/plain": [
       "200"
      ]
     },
     "execution_count": 38,
     "metadata": {},
     "output_type": "execute_result"
    }
   ],
   "source": [
    "class Math:\n",
    "    @staticmethod\n",
    "    def add(a,b):\n",
    "        return a+b\n",
    "    @staticmethod\n",
    "    def mul(a,b):\n",
    "        return a*b\n",
    "\n",
    "\n",
    "# staticmethod 를 사용하게 된다면 아래와 같이 사용가능\n",
    "Math.add(10,20)\n",
    "Math.mul(10,20) "
   ]
  },
  {
   "cell_type": "markdown",
   "metadata": {},
   "source": [
    "### class Inheritance (상속)\n",
    "- 기존에 정의해둔 클래스의 기능을 그대로 사용 가능\n",
    "- 기존 클래스에 기능 일부를 추가하거나 변경 가능\n",
    "- 코드 재사용 가능\n",
    "- 상속 받는 대상인 기존 클래스는 (parent Super, Base class 라고 부른다.)\n",
    "- 상속 받는 새로운 클래스는 (Child, Sub, Derived class 라고 부른다.)\n",
    "- 의미적으로 is-a관계를 갖는다."
   ]
  },
  {
   "cell_type": "code",
   "execution_count": 48,
   "metadata": {},
   "outputs": [
    {
     "name": "stdout",
     "output_type": "stream",
     "text": [
      "Bob은 BBQ를 먹습니다.\n",
      "Bob은 30분 동안 잡니다.\n",
      "Bob은 60분 동안 일합니다.\n"
     ]
    }
   ],
   "source": [
    "class Person:\n",
    "    def __init__(self,name,age):\n",
    "        self.name=name\n",
    "        self.age=age\n",
    "    def eat(self,food):\n",
    "        print('{}은 {}를 먹습니다.'.format(self.name,food))\n",
    "        \n",
    "    def sleep(self,minute):\n",
    "        print('{}은 {}분 동안 잡니다.'.format(self.name,minute))\n",
    "        \n",
    "    def work(self,minute):\n",
    "        print('{}은 {}분 동안 일합니다.'.format(self.name,minute))\n",
    "\n",
    "# 매개변수에 상속받고 싶은 클래스를 작성한다.        \n",
    "class Student(Person):\n",
    "    def __init__(self,name,age):\n",
    "        self.name=name\n",
    "        self.age=age\n",
    "    \n",
    "class Employee:\n",
    "    pass\n",
    "\n",
    "bob=Student('Bob',25)\n",
    "bob.eat('BBQ')\n",
    "bob.sleep(30)\n",
    "bob.work(60)"
   ]
  },
  {
   "cell_type": "markdown",
   "metadata": {},
   "source": [
    "### method override\n",
    "- 부모 클래스의 method 를 재정의\n",
    "- 하위 클래스(자식 클래스)의 인스턴스로 호출시 재정의된 메소드가 호출"
   ]
  },
  {
   "cell_type": "code",
   "execution_count": 57,
   "metadata": {},
   "outputs": [
    {
     "name": "stdout",
     "output_type": "stream",
     "text": [
      "Bob은 BBQ를 먹습니다.\n",
      "Bob은 30분 동안 잡니다.\n",
      "Bob은 60분 동안 업무를 합니다..\n"
     ]
    }
   ],
   "source": [
    "class Person:\n",
    "    def __init__(self,name,age):\n",
    "        self.name=name\n",
    "        self.age=age\n",
    "    def eat(self,food):\n",
    "        print('{}은 {}를 먹습니다.'.format(self.name,food))\n",
    "        \n",
    "    def sleep(self,minute):\n",
    "        print('{}은 {}분 동안 잡니다.'.format(self.name,minute))\n",
    "        \n",
    "    def work(self,minute):\n",
    "        print('{}은 {}분 동안 일합니다.'.format(self.name,minute))\n",
    "\n",
    "# 매개변수에 상속받고 싶은 클래스를 작성한다.        \n",
    "class Student(Person):\n",
    "    '''def __init__(self,name,age): # 없어도됨~~~~~\n",
    "        self.name=name\n",
    "        self.age=age'''\n",
    "        \n",
    "    def work(self,minute):\n",
    "        print('{}은 {}분 동안 공부합니다.'.format(self.name,minute))\n",
    "    \n",
    "class Employee(Person):\n",
    "    def work(self,minute):\n",
    "        print('{}은 {}분 동안 업무를 합니다..'.format(self.name,minute))\n",
    "\n",
    "bob=Employee('Bob',25)\n",
    "bob.eat('BBQ')\n",
    "bob.sleep(30)\n",
    "bob.work(60)"
   ]
  },
  {
   "cell_type": "markdown",
   "metadata": {},
   "source": [
    "### super\n",
    "- 하위클래스(자식 클래스)에서 부모클래스의 method 를 호출할 때 사용"
   ]
  },
  {
   "cell_type": "code",
   "execution_count": 59,
   "metadata": {},
   "outputs": [
    {
     "name": "stdout",
     "output_type": "stream",
     "text": [
      "Bob은 BBQ를 먹습니다.\n",
      "Bob은 30분 동안 잡니다.\n",
      "Bob은 60분 동안 준비를 합니다.\n",
      "Bob은 60분 동안 업무를 합니다..\n"
     ]
    }
   ],
   "source": [
    "class Person:\n",
    "    def __init__(self,name,age):\n",
    "        self.name=name\n",
    "        self.age=age\n",
    "    def eat(self,food):\n",
    "        print('{}은 {}를 먹습니다.'.format(self.name,food))\n",
    "        \n",
    "    def sleep(self,minute):\n",
    "        print('{}은 {}분 동안 잡니다.'.format(self.name,minute))\n",
    "        \n",
    "    def work(self,minute):\n",
    "        print('{}은 {}분 동안 준비를 합니다.'.format(self.name,minute))\n",
    "\n",
    "# 매개변수에 상속받고 싶은 클래스를 작성한다.        \n",
    "class Student(Person):\n",
    "    def __init__(self,name,age): # 없어도됨~~~~~\n",
    "        self.name=name\n",
    "        self.age=age\n",
    "        \n",
    "    def work(self,minute):\n",
    "        super().work(minute) # 부모 클래스에 있는 것은 그대로 가져온다.\n",
    "        print('{}은 {}분 동안 공부를 합니다.'.format(self.name,minute))\n",
    "    \n",
    "class Employee(Person):\n",
    "    def work(self,minute):\n",
    "        super().work(minute)\n",
    "        print('{}은 {}분 동안 업무를 합니다..'.format(self.name,minute))\n",
    "\n",
    "bob=Employee('Bob',25)\n",
    "bob.eat('BBQ')\n",
    "bob.sleep(30)\n",
    "bob.work(60)"
   ]
  },
  {
   "cell_type": "markdown",
   "metadata": {},
   "source": [
    "### special method\n",
    "- __로 시작 __로 끝나는 특수 함수\n",
    "- 해당 메소드를 구현하면, 커스텀 객체에 여러가지 파이썬 내장 함수나 연산자를 적용 가능\n",
    "- 오버라이딩 가능한 함수 목록은 아래 링크에서 참조"
   ]
  },
  {
   "cell_type": "code",
   "execution_count": 62,
   "metadata": {},
   "outputs": [
    {
     "name": "stdout",
     "output_type": "stream",
     "text": [
      "<__main__.Point object at 0x0000021C9CDF7708>\n"
     ]
    }
   ],
   "source": [
    "# Point\n",
    "# 2차원  -> 점(x, y)\n",
    "# 연산\n",
    "# 두 점의 덧셈, 뺄셈 (1, 2) + (3, 4) = (4, 6)\n",
    "# 한점과 숫자의 곱셈 (1, 2) * 3 = (3, 6)\n",
    "# 길이 (0,0 ) 부터의 거리\n",
    "# x, y 값 가져오기\n",
    "# 출력하기\n",
    "class Point:\n",
    "    def __init__(self,x,y):\n",
    "        self.x=x\n",
    "        self.y=y\n",
    "    def print_pt(self):\n",
    "        print('({}, {})'.format(self.x,self.y))\n",
    "p1=Point(3,4)\n",
    "p2=Point(2,7)\n",
    "\n",
    "p1.print_pt()\n",
    "p2.print_pt()"
   ]
  },
  {
   "cell_type": "code",
   "execution_count": 61,
   "metadata": {},
   "outputs": [],
   "source": [
    "# 출력을 바로 하고 싶다면? 함수를 오버라이딩 하면 된다"
   ]
  },
  {
   "cell_type": "code",
   "execution_count": 82,
   "metadata": {},
   "outputs": [
    {
     "name": "stdout",
     "output_type": "stream",
     "text": [
      "25\n",
      "3\n",
      "4\n",
      "3\n",
      "4\n",
      "25\n",
      "(3, 4)\n",
      "(2, 7)\n",
      "(5, 11)\n",
      "(1, -3)\n",
      "(9, 12)\n"
     ]
    }
   ],
   "source": [
    "class Point:    \n",
    "        \n",
    "    def get_x(self):\n",
    "        return self.x\n",
    "    \n",
    "    def get_y(self):\n",
    "        return self.y\n",
    "    \n",
    "    def __getitem__(self,index): # 파이썬으 get item -> idx 반환\n",
    "        if index==0:\n",
    "            return self.x\n",
    "        elif index==1:\n",
    "            return self.y\n",
    "        else:\n",
    "            return -1\n",
    "    \n",
    "    def __init__(self,x,y):\n",
    "        self.x=x\n",
    "        self.y=y\n",
    "        \n",
    "    def __add__(self,pt):\n",
    "        new_x= self.x+pt.x\n",
    "        new_y = self.y+pt.y\n",
    "        return Point(new_x, new_y)\n",
    "    \n",
    "    def __sub__(self,pt):\n",
    "        new_x= self.x-pt.x\n",
    "        new_y = self.y-pt.y\n",
    "        return Point(new_x, new_y)\n",
    "\n",
    "    def __mul__(self,factor):\n",
    "        return Point(self.x * factor, self.y*factor)\n",
    "    \n",
    "    def length(self):\n",
    "        return self.x **2 + self.y ** 2\n",
    "    def __len__(self):\n",
    "        return self.x**2 + self.y**2\n",
    "    \n",
    "    def __str__(self):\n",
    "        return '({}, {})'.format(self.x,self.y)\n",
    "p1=Point(3,4)\n",
    "p2=Point(2,7)\n",
    "p3 = p1+p2\n",
    "p4= p1-p2\n",
    "p5=p1*3\n",
    "\n",
    "print(len(p1))\n",
    "print(p1[0])\n",
    "print(p1[1])\n",
    "print(p1.get_x())\n",
    "print(p1.get_y())\n",
    "print(p1.length())\n",
    "print(p1)\n",
    "print(p2)\n",
    "print(p3)\n",
    "print(p4)\n",
    "print(p5)"
   ]
  },
  {
   "cell_type": "code",
   "execution_count": null,
   "metadata": {},
   "outputs": [],
   "source": [
    "\n"
   ]
  }
 ],
 "metadata": {
  "kernelspec": {
   "display_name": "Python 3",
   "language": "python",
   "name": "python3"
  },
  "language_info": {
   "codemirror_mode": {
    "name": "ipython",
    "version": 3
   },
   "file_extension": ".py",
   "mimetype": "text/x-python",
   "name": "python",
   "nbconvert_exporter": "python",
   "pygments_lexer": "ipython3",
   "version": "3.7.6"
  }
 },
 "nbformat": 4,
 "nbformat_minor": 4
}
