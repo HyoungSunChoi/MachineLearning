{
 "cells": [
  {
   "cell_type": "markdown",
   "metadata": {},
   "source": [
    "## 학습목표\n",
    "\n",
    "- 1. 정규표현식(re) 에 대한 이해 및 숙지\n",
    "\n",
    "\n",
    "- 정규표현식\n",
    "    - reqular expression\n",
    "    - 특정 패턴 과 일치하는 문자열 '검색','치환','제거'하는 기능 지원\n",
    "    - 정규 표현식의 도움없이 패턴은 불완전, 자겅ㅂ량이 많음\n",
    "    \n",
    "- raw string\n",
    "    - 문자열 앞에 r 이 붙으면 해당 문자열이 구성된 그대로 문자열로 변환"
   ]
  },
  {
   "cell_type": "code",
   "execution_count": 1,
   "metadata": {},
   "outputs": [
    {
     "name": "stdout",
     "output_type": "stream",
     "text": [
      "abcdef\n",
      "\n",
      "abcdef\\n\n"
     ]
    }
   ],
   "source": [
    "a='abcdef\\n'\n",
    "print(a)\n",
    "\n",
    "b=r'abcdef\\n'\n",
    "print(b)"
   ]
  },
  {
   "cell_type": "markdown",
   "metadata": {},
   "source": [
    "### 기본 패턴\n",
    "- a,X,9 등등 문자 하나하나의 character 들은 정확히 해당 문자와 일치\n",
    "    - e.g) 패턴 test 는 test 문자열과 일치\n",
    "    - 대소문자의 경우 기본적으로 구별하나, 구별하지 않도록 설정 가능\n",
    "- 몇몇 문자들은 예외 존재\n",
    "    - . ^ $ * + ? {} [] \\ | ()\n",
    "- .(마침표) - 어떤 한개의 character와 일치 (newline(엔터) 제외\n",
    "- \\w - 문자 character와 일치 [a-zA-Z0-9]\n",
    "- \\s - 공백문자와 일치\n",
    "- \\t, \\n, \\r - tab, newline, return\n",
    "- \\d - 숫자, character 와 일치 [0-9]\n",
    "- ^ = 시작, $= 끝 각각 문자열의 시작과 끝을 의미\n",
    "- /가 붙으면 스페셜한 의미가 없어짐... 예를들어 \\. 은 . 자체를 의마한다.  \\\\ 는 \\ 를 의미\n"
   ]
  },
  {
   "cell_type": "markdown",
   "metadata": {},
   "source": [
    "### search method\n",
    "- 첫 번째로 패턴을 찾으면 match 객체를 반환\n",
    "- 패턴을 찾지 못하면 None 반환"
   ]
  },
  {
   "cell_type": "code",
   "execution_count": 2,
   "metadata": {},
   "outputs": [],
   "source": [
    "import re"
   ]
  },
  {
   "cell_type": "code",
   "execution_count": 8,
   "metadata": {},
   "outputs": [
    {
     "name": "stdout",
     "output_type": "stream",
     "text": [
      "<re.Match object; span=(3, 6), match='abc'>\n",
      "3\n",
      "6\n",
      "abc\n"
     ]
    }
   ],
   "source": [
    "m=re.search(r'abc','123abcdef')\n",
    "print(m)\n",
    "print(m.start())\n",
    "print(m.end())\n",
    "print(m.group())"
   ]
  },
  {
   "cell_type": "code",
   "execution_count": 16,
   "metadata": {},
   "outputs": [
    {
     "data": {
      "text/plain": [
       "<re.Match object; span=(0, 4), match='112a'>"
      ]
     },
     "execution_count": 16,
     "metadata": {},
     "output_type": "execute_result"
    }
   ],
   "source": [
    "m=re.search(r'\\d\\d\\d\\w','112abcdef119') # 숫자 2개가 나란히 있는게 있니?\n",
    "m"
   ]
  },
  {
   "cell_type": "code",
   "execution_count": null,
   "metadata": {},
   "outputs": [],
   "source": []
  }
 ],
 "metadata": {
  "kernelspec": {
   "display_name": "Python 3",
   "language": "python",
   "name": "python3"
  },
  "language_info": {
   "codemirror_mode": {
    "name": "ipython",
    "version": 3
   },
   "file_extension": ".py",
   "mimetype": "text/x-python",
   "name": "python",
   "nbconvert_exporter": "python",
   "pygments_lexer": "ipython3",
   "version": "3.7.3"
  }
 },
 "nbformat": 4,
 "nbformat_minor": 2
}
