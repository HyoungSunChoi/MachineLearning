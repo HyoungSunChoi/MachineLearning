{
 "cells": [
  {
   "cell_type": "markdown",
   "metadata": {},
   "source": [
    "#### random 서브모듈"
   ]
  },
  {
   "cell_type": "code",
   "execution_count": 1,
   "metadata": {},
   "outputs": [],
   "source": [
    "import numpy as np\n",
    "import matplotlib.pyplot as plt "
   ]
  },
  {
   "cell_type": "markdown",
   "metadata": {},
   "source": [
    "#### rand 함수\n",
    "- 0,1 사이의 분포로 랜덤한 ndarray생성"
   ]
  },
  {
   "cell_type": "code",
   "execution_count": 25,
   "metadata": {},
   "outputs": [
    {
     "data": {
      "text/plain": [
       "array([[0.08141228, 0.02106483, 0.15218844],\n",
       "       [0.50455066, 0.85659108, 0.1396198 ]])"
      ]
     },
     "execution_count": 25,
     "metadata": {},
     "output_type": "execute_result"
    }
   ],
   "source": [
    "np.random.rand(2,3)\n",
    "# 2행 3열의 랜덤한 값 지정"
   ]
  },
  {
   "cell_type": "code",
   "execution_count": 27,
   "metadata": {},
   "outputs": [
    {
     "data": {
      "text/plain": [
       "array([[[0.16487974, 0.52818655, 0.09239593],\n",
       "        [0.84879977, 0.22761842, 0.94969789],\n",
       "        [0.90641133, 0.70840461, 0.55520568],\n",
       "        [0.45988249, 0.59431871, 0.61608855]],\n",
       "\n",
       "       [[0.06541167, 0.86056328, 0.33037967],\n",
       "        [0.03895755, 0.25202138, 0.79345202],\n",
       "        [0.92705762, 0.67365862, 0.77058739],\n",
       "        [0.37372126, 0.55242895, 0.13955732]]])"
      ]
     },
     "execution_count": 27,
     "metadata": {},
     "output_type": "execute_result"
    }
   ],
   "source": [
    "np.random.rand(2,4,3)"
   ]
  },
  {
   "cell_type": "markdown",
   "metadata": {},
   "source": [
    "#### randn 함수\n",
    "- n : norbal distribution (정규분포) 구할때 사용\n",
    "- 정규분포로 샘플링된 랜덤 dnarray 생성"
   ]
  },
  {
   "cell_type": "code",
   "execution_count": 28,
   "metadata": {},
   "outputs": [
    {
     "data": {
      "text/plain": [
       "array([[-0.2741849 , -0.72318023,  0.17249428, -0.03315082],\n",
       "       [ 0.08728933,  0.19475759, -0.93101929, -0.15323818],\n",
       "       [-0.5523062 , -0.48402767, -0.87124151,  0.61522888]])"
      ]
     },
     "execution_count": 28,
     "metadata": {},
     "output_type": "execute_result"
    }
   ],
   "source": [
    "np.random.randn(3,4)"
   ]
  },
  {
   "cell_type": "code",
   "execution_count": null,
   "metadata": {},
   "outputs": [],
   "source": []
  }
 ],
 "metadata": {
  "kernelspec": {
   "display_name": "Python 3",
   "language": "python",
   "name": "python3"
  },
  "language_info": {
   "codemirror_mode": {
    "name": "ipython",
    "version": 3
   },
   "file_extension": ".py",
   "mimetype": "text/x-python",
   "name": "python",
   "nbconvert_exporter": "python",
   "pygments_lexer": "ipython3",
   "version": "3.8.3"
  }
 },
 "nbformat": 4,
 "nbformat_minor": 4
}
