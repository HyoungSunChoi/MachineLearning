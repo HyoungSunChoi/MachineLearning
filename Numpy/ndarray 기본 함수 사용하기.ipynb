{
 "cells": [
  {
   "cell_type": "code",
   "execution_count": 1,
   "metadata": {},
   "outputs": [],
   "source": [
    "import numpy as np"
   ]
  },
  {
   "cell_type": "markdown",
   "metadata": {},
   "source": [
    "#### numpy documentation\n",
    " - [numpy 공식 문서 링크](https://www.numpy.org/devdocs/reference/)\n",
    " - numpy에서 제공되는 함수등에 대한 문서"
   ]
  },
  {
   "cell_type": "code",
   "execution_count": 7,
   "metadata": {},
   "outputs": [
    {
     "name": "stdout",
     "output_type": "stream",
     "text": [
      "[[ 0  1  2  3  4]\n",
      " [ 5  6  7  8  9]\n",
      " [10 11 12 13 14]]\n",
      "[[0.61198025 0.2208403  0.70627979 0.72374685 0.69655863]\n",
      " [0.00830857 0.6018524  0.02024542 0.90270252 0.08690239]\n",
      " [0.72050866 0.6518318  0.64926934 0.97606451 0.13098771]]\n"
     ]
    }
   ],
   "source": [
    "x=np.arange(15).reshape(3,5)\n",
    "y=np.random.rand(15).reshape(3,5)\n",
    "print(x)\n",
    "print(y)"
   ]
  },
  {
   "cell_type": "markdown",
   "metadata": {},
   "source": [
    "#### 연산 함수\n",
    "- add, substract, multiply, divide\n",
    "- shape 의 값이 같아야한다"
   ]
  },
  {
   "cell_type": "code",
   "execution_count": 12,
   "metadata": {},
   "outputs": [
    {
     "data": {
      "text/plain": [
       "array([[ 0.61198025,  1.2208403 ,  2.70627979,  3.72374685,  4.69655863],\n",
       "       [ 5.00830857,  6.6018524 ,  7.02024542,  8.90270252,  9.08690239],\n",
       "       [10.72050866, 11.6518318 , 12.64926934, 13.97606451, 14.13098771]])"
      ]
     },
     "execution_count": 12,
     "metadata": {},
     "output_type": "execute_result"
    }
   ],
   "source": [
    "x+y"
   ]
  },
  {
   "cell_type": "code",
   "execution_count": 8,
   "metadata": {},
   "outputs": [
    {
     "data": {
      "text/plain": [
       "array([[ 0.61198025,  1.2208403 ,  2.70627979,  3.72374685,  4.69655863],\n",
       "       [ 5.00830857,  6.6018524 ,  7.02024542,  8.90270252,  9.08690239],\n",
       "       [10.72050866, 11.6518318 , 12.64926934, 13.97606451, 14.13098771]])"
      ]
     },
     "execution_count": 8,
     "metadata": {},
     "output_type": "execute_result"
    }
   ],
   "source": [
    "np.add(x,y)"
   ]
  },
  {
   "cell_type": "code",
   "execution_count": 9,
   "metadata": {},
   "outputs": [
    {
     "data": {
      "text/plain": [
       "array([[-0.61198025,  0.7791597 ,  1.29372021,  2.27625315,  3.30344137],\n",
       "       [ 4.99169143,  5.3981476 ,  6.97975458,  7.09729748,  8.91309761],\n",
       "       [ 9.27949134, 10.3481682 , 11.35073066, 12.02393549, 13.86901229]])"
      ]
     },
     "execution_count": 9,
     "metadata": {},
     "output_type": "execute_result"
    }
   ],
   "source": [
    "np.subtract(x,y)"
   ]
  },
  {
   "cell_type": "code",
   "execution_count": 10,
   "metadata": {},
   "outputs": [
    {
     "data": {
      "text/plain": [
       "array([[ 0.        ,  0.2208403 ,  1.41255959,  2.17124055,  2.78623451],\n",
       "       [ 0.04154285,  3.61111439,  0.14171797,  7.22162019,  0.78212155],\n",
       "       [ 7.2050866 ,  7.17014978,  7.79123212, 12.68883867,  1.83382799]])"
      ]
     },
     "execution_count": 10,
     "metadata": {},
     "output_type": "execute_result"
    }
   ],
   "source": [
    "np.multiply(x,y)"
   ]
  },
  {
   "cell_type": "code",
   "execution_count": 11,
   "metadata": {},
   "outputs": [
    {
     "data": {
      "text/plain": [
       "array([[  0.        ,   4.52815897,   2.83173895,   4.14509577,\n",
       "          5.74251735],\n",
       "       [601.78834186,   9.96922171, 345.75714121,   8.86227721,\n",
       "        103.56446554],\n",
       "       [ 13.8790837 ,  16.87551915,  18.48231419,  13.31879176,\n",
       "        106.88025305]])"
      ]
     },
     "execution_count": 11,
     "metadata": {},
     "output_type": "execute_result"
    }
   ],
   "source": [
    "np.divide(x,y)"
   ]
  },
  {
   "cell_type": "markdown",
   "metadata": {},
   "source": [
    "#### 통계 함수\n",
    " - 평균, 분산, 중앙, 최대, 최소값 등등 통계 관련된 함수가 내장"
   ]
  },
  {
   "cell_type": "code",
   "execution_count": 13,
   "metadata": {},
   "outputs": [
    {
     "name": "stdout",
     "output_type": "stream",
     "text": [
      "[[0.61198025 0.2208403  0.70627979 0.72374685 0.69655863]\n",
      " [0.00830857 0.6018524  0.02024542 0.90270252 0.08690239]\n",
      " [0.72050866 0.6518318  0.64926934 0.97606451 0.13098771]]\n"
     ]
    }
   ],
   "source": [
    "print(y)"
   ]
  },
  {
   "cell_type": "code",
   "execution_count": 14,
   "metadata": {},
   "outputs": [
    {
     "data": {
      "text/plain": [
       "0.5138719439572523"
      ]
     },
     "execution_count": 14,
     "metadata": {},
     "output_type": "execute_result"
    }
   ],
   "source": [
    "# y.mean() 과 동일\n",
    "np.mean(y)"
   ]
  },
  {
   "cell_type": "code",
   "execution_count": 15,
   "metadata": {},
   "outputs": [
    {
     "data": {
      "text/plain": [
       "0.5138719439572523"
      ]
     },
     "execution_count": 15,
     "metadata": {},
     "output_type": "execute_result"
    }
   ],
   "source": [
    "y.mean()"
   ]
  },
  {
   "cell_type": "code",
   "execution_count": 17,
   "metadata": {},
   "outputs": [
    {
     "name": "stdout",
     "output_type": "stream",
     "text": [
      "0.9760645133234223\n",
      "13\n"
     ]
    }
   ],
   "source": [
    "# y의 가장 큰 값\n",
    "print(np.max(y))\n",
    "# y의 가장 큰 값의 인덱스\n",
    "print(np.argmax(y))"
   ]
  },
  {
   "cell_type": "code",
   "execution_count": 19,
   "metadata": {},
   "outputs": [
    {
     "data": {
      "text/plain": [
       "(0.0993810746690413, 0.6492693435848448, 0.31524764022755397)"
      ]
     },
     "execution_count": 19,
     "metadata": {},
     "output_type": "execute_result"
    }
   ],
   "source": [
    "# 분산       중앙          표준편차\n",
    "np.var(y), np.median(y), np.std(y)"
   ]
  },
  {
   "cell_type": "markdown",
   "metadata": {},
   "source": [
    "#### 집계함수\n",
    " - 합계(sum), 누적합계(cumsum) 등등 계산 가능"
   ]
  },
  {
   "cell_type": "code",
   "execution_count": 20,
   "metadata": {},
   "outputs": [
    {
     "data": {
      "text/plain": [
       "array([[0.61198025, 0.2208403 , 0.70627979, 0.72374685, 0.69655863],\n",
       "       [0.00830857, 0.6018524 , 0.02024542, 0.90270252, 0.08690239],\n",
       "       [0.72050866, 0.6518318 , 0.64926934, 0.97606451, 0.13098771]])"
      ]
     },
     "execution_count": 20,
     "metadata": {},
     "output_type": "execute_result"
    }
   ],
   "source": [
    "y"
   ]
  },
  {
   "cell_type": "code",
   "execution_count": 22,
   "metadata": {},
   "outputs": [
    {
     "data": {
      "text/plain": [
       "7.708079159358785"
      ]
     },
     "execution_count": 22,
     "metadata": {},
     "output_type": "execute_result"
    }
   ],
   "source": [
    "np.sum(y)"
   ]
  },
  {
   "cell_type": "code",
   "execution_count": 24,
   "metadata": {},
   "outputs": [
    {
     "data": {
      "text/plain": [
       "array([0.61198025, 0.83282055, 1.53910035, 2.26284719, 2.95940582,\n",
       "       2.96771439, 3.56956679, 3.58981221, 4.49251474, 4.57941713,\n",
       "       5.29992579, 5.95175759, 6.60102693, 7.57709145, 7.70807916])"
      ]
     },
     "execution_count": 24,
     "metadata": {},
     "output_type": "execute_result"
    }
   ],
   "source": [
    "# 그래프 그릴 때 누적값 활용도 UP!!\n",
    "np.cumsum(y)"
   ]
  },
  {
   "cell_type": "code",
   "execution_count": 29,
   "metadata": {},
   "outputs": [
    {
     "name": "stdout",
     "output_type": "stream",
     "text": [
      "7.708079159358785\n",
      "[2.95940582 1.62001131 3.12866203]\n",
      "[1.34079748 1.4745245  1.37579456 2.60251389 0.91444873]\n"
     ]
    }
   ],
   "source": [
    "print(np.sum(y, axis=None))\n",
    "print(np.sum(y, axis=1)) # 행을 기준으로 더한다\n",
    "print(np.sum(y, axis=0)) # 열을 기준으로 더한다"
   ]
  },
  {
   "cell_type": "markdown",
   "metadata": {},
   "source": [
    "#### any, all 함수\n",
    " - any: 특정 조건을 만족하는 것이 하나라도 있으면 True, 아니면 False\n",
    " - all: 모든 원소가 특정 조건을 만족한다면 True, 아니면 False"
   ]
  },
  {
   "cell_type": "code",
   "execution_count": 30,
   "metadata": {},
   "outputs": [
    {
     "name": "stdout",
     "output_type": "stream",
     "text": [
      "[-0.35125238  0.53689102  1.53379045  1.6273337  -0.23844503  1.29945348\n",
      "  0.40743737 -1.11418813 -0.98321073  0.05880238]\n"
     ]
    }
   ],
   "source": [
    "z=np.random.randn(10)\n",
    "print(z)"
   ]
  },
  {
   "cell_type": "code",
   "execution_count": 31,
   "metadata": {},
   "outputs": [
    {
     "data": {
      "text/plain": [
       "array([False,  True,  True,  True, False,  True,  True, False, False,\n",
       "        True])"
      ]
     },
     "execution_count": 31,
     "metadata": {},
     "output_type": "execute_result"
    }
   ],
   "source": [
    "z>0"
   ]
  },
  {
   "cell_type": "code",
   "execution_count": 40,
   "metadata": {},
   "outputs": [
    {
     "data": {
      "text/plain": [
       "True"
      ]
     },
     "execution_count": 40,
     "metadata": {},
     "output_type": "execute_result"
    }
   ],
   "source": [
    "# 1개라도 조건 만족하면?\n",
    "np.any(z>0)"
   ]
  },
  {
   "cell_type": "code",
   "execution_count": 42,
   "metadata": {},
   "outputs": [
    {
     "data": {
      "text/plain": [
       "False"
      ]
     },
     "execution_count": 42,
     "metadata": {},
     "output_type": "execute_result"
    }
   ],
   "source": [
    "# 모든 값들이 조건 만족하면?\n",
    "np.all(z>0)"
   ]
  },
  {
   "cell_type": "markdown",
   "metadata": {},
   "source": [
    "#### where 함수\n",
    " - 조건에 따라 선별적으로 값을 선택 가능\n",
    " - 사용 예) 음수인경우는 0, 나머지는 그대로 값을 쓰는 경우"
   ]
  },
  {
   "cell_type": "code",
   "execution_count": 47,
   "metadata": {},
   "outputs": [
    {
     "name": "stdout",
     "output_type": "stream",
     "text": [
      "[ 1.20143324 -0.55471595 -0.89155368  0.21870045  0.14400935  0.31984902\n",
      " -0.66297929  0.47496618  0.94643372  1.0839354 ]\n"
     ]
    }
   ],
   "source": [
    "z=np.random.randn(10)\n",
    "print(z)"
   ]
  },
  {
   "cell_type": "code",
   "execution_count": 48,
   "metadata": {},
   "outputs": [
    {
     "data": {
      "text/plain": [
       "array([1.20143324, 0.        , 0.        , 0.21870045, 0.14400935,\n",
       "       0.31984902, 0.        , 0.47496618, 0.94643372, 1.0839354 ])"
      ]
     },
     "execution_count": 48,
     "metadata": {},
     "output_type": "execute_result"
    }
   ],
   "source": [
    "# z>0 인 경우 z, 아니면 0 을 출력\n",
    "np.where(z>0, z, 0)"
   ]
  },
  {
   "cell_type": "code",
   "execution_count": null,
   "metadata": {},
   "outputs": [],
   "source": []
  }
 ],
 "metadata": {
  "kernelspec": {
   "display_name": "Python 3",
   "language": "python",
   "name": "python3"
  },
  "language_info": {
   "codemirror_mode": {
    "name": "ipython",
    "version": 3
   },
   "file_extension": ".py",
   "mimetype": "text/x-python",
   "name": "python",
   "nbconvert_exporter": "python",
   "pygments_lexer": "ipython3",
   "version": "3.8.3"
  }
 },
 "nbformat": 4,
 "nbformat_minor": 4
}
