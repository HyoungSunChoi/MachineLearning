{
 "cells": [
  {
   "cell_type": "markdown",
   "metadata": {},
   "source": [
    "### 학습목표\n",
    "- random 서브모듈 함수를 통해 ndarray 생성하기"
   ]
  },
  {
   "cell_type": "code",
   "execution_count": 1,
   "metadata": {},
   "outputs": [],
   "source": [
    "import numpy as np"
   ]
  },
  {
   "cell_type": "markdown",
   "metadata": {},
   "source": [
    "### random 서브 모듈\n",
    "- 1. rand 함수\n",
    "    - 0,1 사이의 분포\n",
    "- 2. randn 함수\n",
    "    - 정규분포도\n",
    "- 3. randint 함수\n",
    "    - 특정 정수 사이 샘플링 \n",
    "- 4. seed 함수\n",
    "    - 랜덤값 고정시키기\n",
    "- 5. choice 함수\n",
    "    - randint 와 동일\n",
    "- 6. uniform"
   ]
  },
  {
   "cell_type": "markdown",
   "metadata": {},
   "source": [
    "##### rand 함수\n",
    "- 0,1 사이의 분포로 생성하는 모듈"
   ]
  },
  {
   "cell_type": "code",
   "execution_count": 2,
   "metadata": {},
   "outputs": [
    {
     "data": {
      "text/plain": [
       "array([0.19835075, 0.99502926, 0.47682958, 0.24455238, 0.27773469])"
      ]
     },
     "execution_count": 2,
     "metadata": {},
     "output_type": "execute_result"
    }
   ],
   "source": [
    "np.random.rand(5)"
   ]
  },
  {
   "cell_type": "code",
   "execution_count": 4,
   "metadata": {},
   "outputs": [
    {
     "data": {
      "text/plain": [
       "array([[0.68150692, 0.96355927, 0.67957025],\n",
       "       [0.75933903, 0.53080081, 0.89126346]])"
      ]
     },
     "execution_count": 4,
     "metadata": {},
     "output_type": "execute_result"
    }
   ],
   "source": [
    "np.random.rand(2,3)"
   ]
  },
  {
   "cell_type": "code",
   "execution_count": 5,
   "metadata": {},
   "outputs": [
    {
     "data": {
      "text/plain": [
       "array([[[0.60227109, 0.87278317, 0.7930945 ],\n",
       "        [0.87205534, 0.34703691, 0.73369034],\n",
       "        [0.82557583, 0.82552483, 0.58119693],\n",
       "        [0.52062963, 0.64809245, 0.54729504],\n",
       "        [0.60140504, 0.39332567, 0.05942888]],\n",
       "\n",
       "       [[0.68719619, 0.5775697 , 0.53955394],\n",
       "        [0.22964833, 0.71128042, 0.0139064 ],\n",
       "        [0.76684609, 0.62841482, 0.27032162],\n",
       "        [0.95585224, 0.81186766, 0.207333  ],\n",
       "        [0.06244214, 0.79097548, 0.05010272]],\n",
       "\n",
       "       [[0.1307822 , 0.77805631, 0.36723127],\n",
       "        [0.04645924, 0.37500477, 0.95817972],\n",
       "        [0.07194164, 0.79771304, 0.82642794],\n",
       "        [0.47055418, 0.1161406 , 0.8601249 ],\n",
       "        [0.61549221, 0.79116005, 0.54296104]],\n",
       "\n",
       "       [[0.30333813, 0.06925306, 0.73391211],\n",
       "        [0.03738992, 0.92803096, 0.04970727],\n",
       "        [0.03180413, 0.24526564, 0.71890929],\n",
       "        [0.52764463, 0.2908037 , 0.98481446],\n",
       "        [0.02357639, 0.91277797, 0.87243919]]])"
      ]
     },
     "execution_count": 5,
     "metadata": {},
     "output_type": "execute_result"
    }
   ],
   "source": [
    "np.random.rand(4,5,3)"
   ]
  },
  {
   "cell_type": "markdown",
   "metadata": {},
   "source": [
    "##### randn 함수\n",
    "- n: normal distribution(정규분포)\n",
    "- 정규분포로 샘플링된 랜덤 ndarray 생성"
   ]
  },
  {
   "cell_type": "code",
   "execution_count": 75,
   "metadata": {},
   "outputs": [
    {
     "data": {
      "text/plain": [
       "array([-0.15726517, -1.50758516,  0.10788413,  0.74705566,  0.42967644])"
      ]
     },
     "execution_count": 75,
     "metadata": {},
     "output_type": "execute_result"
    }
   ],
   "source": [
    "np.random.randn(5)"
   ]
  },
  {
   "cell_type": "code",
   "execution_count": 6,
   "metadata": {},
   "outputs": [
    {
     "data": {
      "text/plain": [
       "array([[ 0.59634619, -0.56312028,  0.03893952],\n",
       "       [-0.07408393,  0.32611119,  2.17030839],\n",
       "       [-0.23589017, -0.09984143,  0.88788323]])"
      ]
     },
     "execution_count": 6,
     "metadata": {},
     "output_type": "execute_result"
    }
   ],
   "source": [
    "np.random.randn(3,3)"
   ]
  },
  {
   "cell_type": "code",
   "execution_count": 7,
   "metadata": {},
   "outputs": [
    {
     "data": {
      "text/plain": [
       "array([[[ 2.27411158, -0.75617085],\n",
       "        [-0.3336071 ,  0.17176466],\n",
       "        [ 0.34326631,  0.51603816]],\n",
       "\n",
       "       [[ 0.36122441,  1.54256873],\n",
       "        [-1.24202781, -1.55150885],\n",
       "        [ 0.34000547, -0.27793632]]])"
      ]
     },
     "execution_count": 7,
     "metadata": {},
     "output_type": "execute_result"
    }
   ],
   "source": [
    "np.random.randn(2,3,2)"
   ]
  },
  {
   "cell_type": "markdown",
   "metadata": {},
   "source": [
    "##### randint 함수\n",
    "- 특정 정수 사이에서 랜덤하게 샘플링"
   ]
  },
  {
   "cell_type": "code",
   "execution_count": 10,
   "metadata": {},
   "outputs": [
    {
     "data": {
      "text/plain": [
       "array([[39, 31, 56, 56, 70],\n",
       "       [83, 78, 21, 37, 65],\n",
       "       [71, 29, 55, 51, 69]])"
      ]
     },
     "execution_count": 10,
     "metadata": {},
     "output_type": "execute_result"
    }
   ],
   "source": [
    "# 1~100 사이의 숫자를 3행 5열 샘플링\n",
    "np.random.randint(1,100,size=(3,5))"
   ]
  },
  {
   "cell_type": "markdown",
   "metadata": {},
   "source": [
    "##### seed 함수\n",
    "- 랜덤한 값을 동일하게 다시 생성하고자 할 때 사용"
   ]
  },
  {
   "cell_type": "code",
   "execution_count": 47,
   "metadata": {},
   "outputs": [],
   "source": [
    "# seed 함수를 호출 한 후 rand 함수 호출하면 고정한다.\n",
    "# 100 은 아무거나 넣어도 된다 (주문번호라 생각하기)\n",
    "np.random.seed(100)"
   ]
  },
  {
   "cell_type": "code",
   "execution_count": 48,
   "metadata": {},
   "outputs": [
    {
     "data": {
      "text/plain": [
       "array([[-1.74976547,  0.3426804 ,  1.1530358 , -0.25243604],\n",
       "       [ 0.98132079,  0.51421884,  0.22117967, -1.07004333],\n",
       "       [-0.18949583,  0.25500144, -0.45802699,  0.43516349]])"
      ]
     },
     "execution_count": 48,
     "metadata": {},
     "output_type": "execute_result"
    }
   ],
   "source": [
    "np.random.randn(3,4)"
   ]
  },
  {
   "cell_type": "markdown",
   "metadata": {},
   "source": [
    "##### choice\n",
    "- 주어진 1차원 ndarray로 부터 랜덤으로 샘플링\n",
    "- 정수가 주어지면, np.arange(해당숫자)로 간주"
   ]
  },
  {
   "cell_type": "code",
   "execution_count": 50,
   "metadata": {},
   "outputs": [
    {
     "data": {
      "text/plain": [
       "array([[71, 80,  2, 94],\n",
       "       [19, 98, 63, 53],\n",
       "       [27, 56, 30, 48]])"
      ]
     },
     "execution_count": 50,
     "metadata": {},
     "output_type": "execute_result"
    }
   ],
   "source": [
    "# range(100) == choice(100)\n",
    "np.random.choice(100, size=(3,4))"
   ]
  },
  {
   "cell_type": "code",
   "execution_count": 67,
   "metadata": {},
   "outputs": [
    {
     "data": {
      "text/plain": [
       "array([[2.6, 1. ],\n",
       "       [2. , 3. ]])"
      ]
     },
     "execution_count": 67,
     "metadata": {},
     "output_type": "execute_result"
    }
   ],
   "source": [
    "x=np.array([1, 2, 3, 1.5, 2.6, 4.9])\n",
    "np.random.choice(x,size=(2,2), replace=False)\n",
    "\n",
    "# replace 를 넣어서 중복을 불가하게 만들자"
   ]
  },
  {
   "cell_type": "markdown",
   "metadata": {},
   "source": [
    "##### 확률분포에 따른 ndarray 생성\n",
    "- uniform\n",
    "- normal"
   ]
  },
  {
   "cell_type": "code",
   "execution_count": 69,
   "metadata": {},
   "outputs": [
    {
     "data": {
      "text/plain": [
       "array([[2.22065631, 1.6180007 , 2.39546982, 2.71923659, 2.25064752],\n",
       "       [2.96481566, 2.95300025, 1.33338826, 1.04635627, 1.3214891 ],\n",
       "       [2.84699365, 2.9070997 , 1.42195684, 1.7210505 , 2.09875052],\n",
       "       [1.5436617 , 1.92120324, 2.39232313, 2.00071179, 2.43214198]])"
      ]
     },
     "execution_count": 69,
     "metadata": {},
     "output_type": "execute_result"
    }
   ],
   "source": [
    "# uniform 값 안에서만 랜덤한 값 추출\n",
    "np.random.uniform(1.0, 3.0, size=(4,5))"
   ]
  },
  {
   "cell_type": "code",
   "execution_count": 71,
   "metadata": {},
   "outputs": [
    {
     "data": {
      "text/plain": [
       "array([[ 0.31736798, -0.75241418, -1.29639181,  0.09513944],\n",
       "       [-0.4237151 , -1.18598356, -0.36546199, -1.27102304],\n",
       "       [ 1.58617094,  0.69339066, -1.95808123, -0.13480131]])"
      ]
     },
     "execution_count": 71,
     "metadata": {},
     "output_type": "execute_result"
    }
   ],
   "source": [
    "np.random.normal(size=(3,4))\n",
    "# np.random.randn(3,4) 와 동일하다"
   ]
  },
  {
   "cell_type": "code",
   "execution_count": null,
   "metadata": {},
   "outputs": [],
   "source": []
  }
 ],
 "metadata": {
  "kernelspec": {
   "display_name": "Python 3",
   "language": "python",
   "name": "python3"
  },
  "language_info": {
   "codemirror_mode": {
    "name": "ipython",
    "version": 3
   },
   "file_extension": ".py",
   "mimetype": "text/x-python",
   "name": "python",
   "nbconvert_exporter": "python",
   "pygments_lexer": "ipython3",
   "version": "3.8.3"
  }
 },
 "nbformat": 4,
 "nbformat_minor": 4
}
